{
 "cells": [
  {
   "cell_type": "code",
   "execution_count": 1,
   "metadata": {},
   "outputs": [],
   "source": [
    "import pandas as pd\n",
    "import requests \n",
    "from bs4 import BeautifulSoup as BS\n",
    "from IPython.core.display import HTML\n",
    "import json\n",
    "import re"
   ]
  },
  {
   "cell_type": "code",
   "execution_count": 2,
   "metadata": {},
   "outputs": [],
   "source": [
    "url = 'https://en.wikipedia.org/wiki/List_of_deadly_earthquakes_since_1900'"
   ]
  },
  {
   "cell_type": "code",
   "execution_count": 3,
   "metadata": {},
   "outputs": [],
   "source": [
    "response = requests.get(url)"
   ]
  },
  {
   "cell_type": "code",
   "execution_count": 4,
   "metadata": {},
   "outputs": [],
   "source": [
    "wiki_page = BS(response.text)"
   ]
  },
  {
   "cell_type": "code",
   "execution_count": 5,
   "metadata": {},
   "outputs": [],
   "source": [
    "wiki_table = wiki_page.find('table',{'class':'wikitable'})"
   ]
  },
  {
   "cell_type": "code",
   "execution_count": 6,
   "metadata": {},
   "outputs": [],
   "source": [
    "wiki_list = pd.read_html(str(wiki_table))"
   ]
  },
  {
   "cell_type": "code",
   "execution_count": 7,
   "metadata": {},
   "outputs": [],
   "source": [
    "wiki_df = pd.DataFrame(wiki_list[0])"
   ]
  },
  {
   "cell_type": "code",
   "execution_count": 8,
   "metadata": {},
   "outputs": [],
   "source": [
    "#regex to get footnoes out of other deaths column \n",
    "#point1 = wiki_df.iloc[1338,-1]"
   ]
  },
  {
   "cell_type": "code",
   "execution_count": 9,
   "metadata": {},
   "outputs": [],
   "source": [
    "#regex to get footnoes out of other deaths column \n",
    "#re.match('(\\d+)', point1)"
   ]
  },
  {
   "cell_type": "code",
   "execution_count": 10,
   "metadata": {},
   "outputs": [
    {
     "data": {
      "text/plain": [
       "array([nan, '3500', '8000+', '46', '164[6]', '1500[6]', '105000', '1404',\n",
       "       '1', '120', '200', '380', '2041', '33[8]', '45000[9]', '2489[10]',\n",
       "       '10', '26271[11] 26000[12]', '68',\n",
       "       '231000*[13] 283000*[14] 227898*[15]', '41', '60[16]', '215', '34',\n",
       "       '295', '79', '189', '1115', '222,517[17]', '521[19]', '42', '2698',\n",
       "       '185', '15894[20]', '150+', '111+', '601 (as of October 30, 2011)',\n",
       "       '4340+', '118', '105'], dtype=object)"
      ]
     },
     "execution_count": 10,
     "metadata": {},
     "output_type": "execute_result"
    }
   ],
   "source": [
    "wiki_df['Other Source Deaths'].unique()"
   ]
  },
  {
   "cell_type": "code",
   "execution_count": 11,
   "metadata": {},
   "outputs": [
    {
     "data": {
      "text/html": [
       "<div>\n",
       "<style scoped>\n",
       "    .dataframe tbody tr th:only-of-type {\n",
       "        vertical-align: middle;\n",
       "    }\n",
       "\n",
       "    .dataframe tbody tr th {\n",
       "        vertical-align: top;\n",
       "    }\n",
       "\n",
       "    .dataframe thead th {\n",
       "        text-align: right;\n",
       "    }\n",
       "</style>\n",
       "<table border=\"1\" class=\"dataframe\">\n",
       "  <thead>\n",
       "    <tr style=\"text-align: right;\">\n",
       "      <th></th>\n",
       "      <th>Origin (UTC)</th>\n",
       "      <th>Present-day country and link to Wikipedia article</th>\n",
       "      <th>Lat</th>\n",
       "      <th>Long</th>\n",
       "      <th>Depth (km)</th>\n",
       "      <th>Magnitude</th>\n",
       "      <th>Secondary Effects</th>\n",
       "      <th>PDE Shaking Deaths</th>\n",
       "      <th>PDE Total Deaths</th>\n",
       "      <th>Utsu Total Deaths</th>\n",
       "      <th>EM-DAT Total Deaths</th>\n",
       "      <th>Other Source Deaths</th>\n",
       "    </tr>\n",
       "  </thead>\n",
       "  <tbody>\n",
       "    <tr>\n",
       "      <th>1238</th>\n",
       "      <td>2004-12-26 00:58</td>\n",
       "      <td>Indonesia (see 2004 Indian Ocean earthquake)</td>\n",
       "      <td>3.287</td>\n",
       "      <td>95.972</td>\n",
       "      <td>30</td>\n",
       "      <td>9.1 Mw</td>\n",
       "      <td>T,L</td>\n",
       "      <td>NaN</td>\n",
       "      <td>297200.0</td>\n",
       "      <td>NaN</td>\n",
       "      <td>NaN</td>\n",
       "      <td>231000*[13] 283000*[14] 227898*[15]</td>\n",
       "    </tr>\n",
       "  </tbody>\n",
       "</table>\n",
       "</div>"
      ],
      "text/plain": [
       "          Origin (UTC) Present-day country and link to Wikipedia article  \\\n",
       "1238  2004-12-26 00:58      Indonesia (see 2004 Indian Ocean earthquake)   \n",
       "\n",
       "        Lat    Long Depth (km) Magnitude Secondary Effects  \\\n",
       "1238  3.287  95.972         30    9.1 Mw               T,L   \n",
       "\n",
       "      PDE Shaking Deaths  PDE Total Deaths  Utsu Total Deaths  \\\n",
       "1238                 NaN          297200.0                NaN   \n",
       "\n",
       "     EM-DAT Total Deaths                  Other Source Deaths  \n",
       "1238                 NaN  231000*[13] 283000*[14] 227898*[15]  "
      ]
     },
     "execution_count": 11,
     "metadata": {},
     "output_type": "execute_result"
    }
   ],
   "source": [
    "#doing this to get the index value of the point in question \n",
    "wiki_df[wiki_df['Other Source Deaths'] == '231000*[13] 283000*[14] 227898*[15]']\n"
   ]
  },
  {
   "cell_type": "code",
   "execution_count": 12,
   "metadata": {},
   "outputs": [
    {
     "data": {
      "text/html": [
       "<div>\n",
       "<style scoped>\n",
       "    .dataframe tbody tr th:only-of-type {\n",
       "        vertical-align: middle;\n",
       "    }\n",
       "\n",
       "    .dataframe tbody tr th {\n",
       "        vertical-align: top;\n",
       "    }\n",
       "\n",
       "    .dataframe thead th {\n",
       "        text-align: right;\n",
       "    }\n",
       "</style>\n",
       "<table border=\"1\" class=\"dataframe\">\n",
       "  <thead>\n",
       "    <tr style=\"text-align: right;\">\n",
       "      <th></th>\n",
       "      <th>Origin (UTC)</th>\n",
       "      <th>Present-day country and link to Wikipedia article</th>\n",
       "      <th>Lat</th>\n",
       "      <th>Long</th>\n",
       "      <th>Depth (km)</th>\n",
       "      <th>Magnitude</th>\n",
       "      <th>Secondary Effects</th>\n",
       "      <th>PDE Shaking Deaths</th>\n",
       "      <th>PDE Total Deaths</th>\n",
       "      <th>Utsu Total Deaths</th>\n",
       "      <th>EM-DAT Total Deaths</th>\n",
       "      <th>Other Source Deaths</th>\n",
       "    </tr>\n",
       "  </thead>\n",
       "  <tbody>\n",
       "    <tr>\n",
       "      <th>1328</th>\n",
       "      <td>2010-01-12 17:00</td>\n",
       "      <td>Haiti (see 2010 Haiti earthquake)</td>\n",
       "      <td>18.457</td>\n",
       "      <td>-72.533</td>\n",
       "      <td>13</td>\n",
       "      <td>7.0 Mw</td>\n",
       "      <td>NaN</td>\n",
       "      <td>NaN</td>\n",
       "      <td>NaN</td>\n",
       "      <td>NaN</td>\n",
       "      <td>NaN</td>\n",
       "      <td>222,517[17]</td>\n",
       "    </tr>\n",
       "  </tbody>\n",
       "</table>\n",
       "</div>"
      ],
      "text/plain": [
       "          Origin (UTC) Present-day country and link to Wikipedia article  \\\n",
       "1328  2010-01-12 17:00                 Haiti (see 2010 Haiti earthquake)   \n",
       "\n",
       "         Lat     Long Depth (km) Magnitude Secondary Effects  \\\n",
       "1328  18.457  -72.533         13    7.0 Mw               NaN   \n",
       "\n",
       "      PDE Shaking Deaths  PDE Total Deaths  Utsu Total Deaths  \\\n",
       "1328                 NaN               NaN                NaN   \n",
       "\n",
       "     EM-DAT Total Deaths Other Source Deaths  \n",
       "1328                 NaN         222,517[17]  "
      ]
     },
     "execution_count": 12,
     "metadata": {},
     "output_type": "execute_result"
    }
   ],
   "source": [
    "wiki_df[wiki_df['Other Source Deaths'] == '222,517[17]']"
   ]
  },
  {
   "cell_type": "code",
   "execution_count": 13,
   "metadata": {},
   "outputs": [],
   "source": [
    "wiki_df.iloc[1237,-1] = '283000'\n",
    "wiki_df.iloc[1327,-1] = '222517'"
   ]
  },
  {
   "cell_type": "code",
   "execution_count": 14,
   "metadata": {},
   "outputs": [],
   "source": [
    "wiki_df['Other Source Deaths'] = wiki_df['Other Source Deaths'].str.extract('(\\d+)')\n",
    "wiki_df['Other Source Deaths'] = wiki_df['Other Source Deaths'].fillna(0)"
   ]
  },
  {
   "cell_type": "code",
   "execution_count": 15,
   "metadata": {},
   "outputs": [],
   "source": [
    "wiki_df['Other Source Deaths'] = wiki_df['Other Source Deaths'].astype(int)"
   ]
  },
  {
   "cell_type": "code",
   "execution_count": 16,
   "metadata": {},
   "outputs": [],
   "source": [
    "point2 = wiki_df.iloc[1335,5]"
   ]
  },
  {
   "cell_type": "code",
   "execution_count": 17,
   "metadata": {},
   "outputs": [
    {
     "data": {
      "text/plain": [
       "<re.Match object; span=(0, 3), match='9.0'>"
      ]
     },
     "execution_count": 17,
     "metadata": {},
     "output_type": "execute_result"
    }
   ],
   "source": [
    "re.match('\\d{1}\\.\\d{1}', point2)"
   ]
  },
  {
   "cell_type": "code",
   "execution_count": 18,
   "metadata": {},
   "outputs": [],
   "source": [
    "wiki_df['Magnitude'] = wiki_df['Magnitude'].str.extract('(\\d{1}\\.\\d{1})')"
   ]
  },
  {
   "cell_type": "code",
   "execution_count": 19,
   "metadata": {},
   "outputs": [],
   "source": [
    "# also go this wrong wiki_df.fillna(0)\n",
    "wiki_df['Magnitude'] = wiki_df['Magnitude'].astype(float)"
   ]
  },
  {
   "cell_type": "code",
   "execution_count": 20,
   "metadata": {},
   "outputs": [],
   "source": [
    "wiki_df['Deaths'] = wiki_df[['PDE Total Deaths','Utsu Total Deaths','EM-DAT Total Deaths','Other Source Deaths']].max(axis=1)"
   ]
  },
  {
   "cell_type": "code",
   "execution_count": 21,
   "metadata": {},
   "outputs": [],
   "source": [
    "wiki_df['Present-day country and link to Wikipedia article'] = wiki_df['Present-day country and link to Wikipedia article'].str.replace('(\\s\\(.*)','')"
   ]
  },
  {
   "cell_type": "code",
   "execution_count": 22,
   "metadata": {},
   "outputs": [],
   "source": [
    "wiki_df.query('Magnitude > 5.0 or (Magnitude < 5.0 and `Secondary Effects` == \"L\" and Deaths > 10)', inplace = True)"
   ]
  },
  {
   "cell_type": "code",
   "execution_count": 23,
   "metadata": {},
   "outputs": [],
   "source": [
    "wiki_df.to_csv('cleandata.csv', index=False)"
   ]
  },
  {
   "cell_type": "code",
   "execution_count": null,
   "metadata": {},
   "outputs": [],
   "source": []
  }
 ],
 "metadata": {
  "kernelspec": {
   "display_name": "Python 3",
   "language": "python",
   "name": "python3"
  },
  "language_info": {
   "codemirror_mode": {
    "name": "ipython",
    "version": 3
   },
   "file_extension": ".py",
   "mimetype": "text/x-python",
   "name": "python",
   "nbconvert_exporter": "python",
   "pygments_lexer": "ipython3",
   "version": "3.8.3"
  }
 },
 "nbformat": 4,
 "nbformat_minor": 4
}
