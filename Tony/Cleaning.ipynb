{
 "cells": [
  {
   "cell_type": "code",
   "execution_count": 1,
   "metadata": {},
   "outputs": [],
   "source": [
    "import requests\n",
    "import pandas as pd\n",
    "import numpy as np\n",
    "import matplotlib.pyplot as plt\n",
    "from bs4 import BeautifulSoup\n",
    "from io import StringIO"
   ]
  },
  {
   "cell_type": "code",
   "execution_count": 2,
   "metadata": {},
   "outputs": [],
   "source": [
    "url = 'https://en.wikipedia.org/wiki/List_of_deadly_earthquakes_since_1900'"
   ]
  },
  {
   "cell_type": "code",
   "execution_count": 3,
   "metadata": {},
   "outputs": [
    {
     "name": "stdout",
     "output_type": "stream",
     "text": [
      "          Origin (UTC) Present-day country and link to Wikipedia article  \\\n",
      "0     1900-05-11 17:23                                             Japan   \n",
      "1     1900-07-12 06:25                                            Turkey   \n",
      "2     1900-10-29 09:11                                         Venezuela   \n",
      "3     1901-02-15 00:00                                             China   \n",
      "4     1901-03-31 07:11                                          Bulgaria   \n",
      "...                ...                                               ...   \n",
      "1335  2011-03-24 20:25                 Burma (see 2011 Burma earthquake)   \n",
      "1336  2011-04-07 14:32          Japan (see April 2011 Miyagi earthquake)   \n",
      "1337  2011-09-18 12:40                India (see 2011 Sikkim earthquake)   \n",
      "1338  2011-09-23 10:41                  Turkey (see 2011 Van earthquake)   \n",
      "1339  2018-08-05 19:46                 Indonesia (see Lombok earthquake)   \n",
      "\n",
      "         Lat     Long Depth (km) Magnitude Secondary Effects  \\\n",
      "0     38.700  141.100          5  7.0 MJMA               NaN   \n",
      "1     40.300   43.100        NaN   5.9 Muk               NaN   \n",
      "2     11.000  -66.000          0    7.7 Mw               NaN   \n",
      "3     26.000  100.100          0    6.5 Ms               NaN   \n",
      "4     43.400   28.700        NaN   6.4 Muk               NaN   \n",
      "...      ...      ...        ...       ...               ...   \n",
      "1335     NaN      NaN        NaN    6.8 Mw               NaN   \n",
      "1336    38.2    140.0       66.0    7.1 Mw               NaN   \n",
      "1337  27.723   88.064       19.7    6.9 Mw                 L   \n",
      "1338    38.6     43.5        7.2    7.1 Mw               NaN   \n",
      "1339     NaN      NaN       31.0    6.9 Mw               NaN   \n",
      "\n",
      "      PDE Shaking Deaths  PDE Total Deaths  Utsu Total Deaths  \\\n",
      "0                    NaN               NaN                NaN   \n",
      "1                    NaN               NaN              140.0   \n",
      "2                    NaN               NaN                NaN   \n",
      "3                    NaN               NaN                NaN   \n",
      "4                    NaN               NaN                4.0   \n",
      "...                  ...               ...                ...   \n",
      "1335                 NaN               NaN                NaN   \n",
      "1336                 NaN               NaN                NaN   \n",
      "1337                 NaN               NaN                NaN   \n",
      "1338                 NaN               NaN                NaN   \n",
      "1339                 NaN               NaN                NaN   \n",
      "\n",
      "     EM-DAT Total Deaths           Other Source Deaths  \n",
      "0                    NaN                           NaN  \n",
      "1                    NaN                           NaN  \n",
      "2                    NaN                           NaN  \n",
      "3                    NaN                           NaN  \n",
      "4                    NaN                           NaN  \n",
      "...                  ...                           ...  \n",
      "1335                 NaN                          150+  \n",
      "1336                 NaN                           NaN  \n",
      "1337                 NaN                          111+  \n",
      "1338                 NaN  601 (as of October 30, 2011)  \n",
      "1339                 NaN                           NaN  \n",
      "\n",
      "[1340 rows x 12 columns]\n"
     ]
    }
   ],
   "source": [
    "df = pd.read_html(url, attrs={\"class\": \"wikitable\"})[0]\n",
    "print(df)"
   ]
  },
  {
   "cell_type": "code",
   "execution_count": 4,
   "metadata": {},
   "outputs": [
    {
     "data": {
      "text/plain": [
       "array([nan, '3500', '8000+', '46', '164[6]', '1500[6]', '105000', '1404',\n",
       "       '1', '120', '200', '380', '2041', '33[8]', '45000[9]', '2489[10]',\n",
       "       '26271[11] 26000[12]', '68', '231000*[13] 283000*[14] 227898*[15]',\n",
       "       '41', '60[16]', '215', '34', '295', '79', '189', '1115',\n",
       "       '222,517[17]', '521[19]', '42', '2698', '185', '15894[20]', '150+',\n",
       "       '111+', '601 (as of October 30, 2011)'], dtype=object)"
      ]
     },
     "execution_count": 4,
     "metadata": {},
     "output_type": "execute_result"
    }
   ],
   "source": [
    "df['Other Source Deaths'].unique()"
   ]
  },
  {
   "cell_type": "code",
   "execution_count": 5,
   "metadata": {},
   "outputs": [
    {
     "data": {
      "text/html": [
       "<div>\n",
       "<style scoped>\n",
       "    .dataframe tbody tr th:only-of-type {\n",
       "        vertical-align: middle;\n",
       "    }\n",
       "\n",
       "    .dataframe tbody tr th {\n",
       "        vertical-align: top;\n",
       "    }\n",
       "\n",
       "    .dataframe thead th {\n",
       "        text-align: right;\n",
       "    }\n",
       "</style>\n",
       "<table border=\"1\" class=\"dataframe\">\n",
       "  <thead>\n",
       "    <tr style=\"text-align: right;\">\n",
       "      <th></th>\n",
       "      <th>Origin (UTC)</th>\n",
       "      <th>Present-day country and link to Wikipedia article</th>\n",
       "      <th>Lat</th>\n",
       "      <th>Long</th>\n",
       "      <th>Depth (km)</th>\n",
       "      <th>Magnitude</th>\n",
       "      <th>Secondary Effects</th>\n",
       "      <th>PDE Shaking Deaths</th>\n",
       "      <th>PDE Total Deaths</th>\n",
       "      <th>Utsu Total Deaths</th>\n",
       "      <th>EM-DAT Total Deaths</th>\n",
       "      <th>Other Source Deaths</th>\n",
       "    </tr>\n",
       "  </thead>\n",
       "  <tbody>\n",
       "    <tr>\n",
       "      <th>1327</th>\n",
       "      <td>2010-01-12 17:00</td>\n",
       "      <td>Haiti (see 2010 Haiti earthquake)</td>\n",
       "      <td>18.457</td>\n",
       "      <td>-72.533</td>\n",
       "      <td>13</td>\n",
       "      <td>7.0 Mw</td>\n",
       "      <td>NaN</td>\n",
       "      <td>NaN</td>\n",
       "      <td>NaN</td>\n",
       "      <td>NaN</td>\n",
       "      <td>NaN</td>\n",
       "      <td>222,517[17]</td>\n",
       "    </tr>\n",
       "  </tbody>\n",
       "</table>\n",
       "</div>"
      ],
      "text/plain": [
       "          Origin (UTC) Present-day country and link to Wikipedia article  \\\n",
       "1327  2010-01-12 17:00                 Haiti (see 2010 Haiti earthquake)   \n",
       "\n",
       "         Lat     Long Depth (km) Magnitude Secondary Effects  \\\n",
       "1327  18.457  -72.533         13    7.0 Mw               NaN   \n",
       "\n",
       "      PDE Shaking Deaths  PDE Total Deaths  Utsu Total Deaths  \\\n",
       "1327                 NaN               NaN                NaN   \n",
       "\n",
       "     EM-DAT Total Deaths Other Source Deaths  \n",
       "1327                 NaN         222,517[17]  "
      ]
     },
     "execution_count": 5,
     "metadata": {},
     "output_type": "execute_result"
    }
   ],
   "source": [
    "df[df['Other Source Deaths'] == '231000*[13] 283000*[14] 227898*[15]']\n",
    "df[df['Other Source Deaths'] == '222,517[17]']\n",
    "\n",
    "#print(df)"
   ]
  },
  {
   "cell_type": "code",
   "execution_count": 6,
   "metadata": {},
   "outputs": [],
   "source": [
    "df.iloc[1237,-1] = '283000'\n",
    "df.iloc[1327,-1] = '222517'"
   ]
  },
  {
   "cell_type": "code",
   "execution_count": 7,
   "metadata": {},
   "outputs": [
    {
     "data": {
      "text/plain": [
       "array([nan, '3500', '8000+', '46', '164[6]', '1500[6]', '105000', '1404',\n",
       "       '1', '120', '200', '380', '2041', '33[8]', '45000[9]', '2489[10]',\n",
       "       '26271[11] 26000[12]', '68', '283000', '41', '60[16]', '215', '34',\n",
       "       '295', '79', '189', '1115', '222517', '521[19]', '42', '2698',\n",
       "       '185', '15894[20]', '150+', '111+', '601 (as of October 30, 2011)'],\n",
       "      dtype=object)"
      ]
     },
     "execution_count": 7,
     "metadata": {},
     "output_type": "execute_result"
    }
   ],
   "source": [
    "df['Other Source Deaths'].unique()"
   ]
  },
  {
   "cell_type": "code",
   "execution_count": 8,
   "metadata": {},
   "outputs": [
    {
     "name": "stdout",
     "output_type": "stream",
     "text": [
      "          Origin (UTC)     Lat     Long Depth (km) Magnitude  \\\n",
      "0     1900-05-11 17:23  38.700  141.100          5       7.0   \n",
      "1     1900-07-12 06:25  40.300   43.100        NaN       5.9   \n",
      "2     1900-10-29 09:11  11.000  -66.000          0       7.7   \n",
      "3     1901-02-15 00:00  26.000  100.100          0       6.5   \n",
      "4     1901-03-31 07:11  43.400   28.700        NaN       6.4   \n",
      "...                ...     ...      ...        ...       ...   \n",
      "1335  2011-03-24 20:25     NaN      NaN        NaN       6.8   \n",
      "1336  2011-04-07 14:32    38.2    140.0       66.0       7.1   \n",
      "1337  2011-09-18 12:40  27.723   88.064       19.7       6.9   \n",
      "1338  2011-09-23 10:41    38.6     43.5        7.2       7.1   \n",
      "1339  2018-08-05 19:46     NaN      NaN       31.0       6.9   \n",
      "\n",
      "     Secondary Effects  PDE Shaking Deaths  PDE Total Deaths  \\\n",
      "0                  NaN                 NaN               NaN   \n",
      "1                  NaN                 NaN               NaN   \n",
      "2                  NaN                 NaN               NaN   \n",
      "3                  NaN                 NaN               NaN   \n",
      "4                  NaN                 NaN               NaN   \n",
      "...                ...                 ...               ...   \n",
      "1335               NaN                 NaN               NaN   \n",
      "1336               NaN                 NaN               NaN   \n",
      "1337                 L                 NaN               NaN   \n",
      "1338               NaN                 NaN               NaN   \n",
      "1339               NaN                 NaN               NaN   \n",
      "\n",
      "      Utsu Total Deaths EM-DAT Total Deaths Other Source Deaths     Country  \n",
      "0                   NaN                 NaN                 NaN       Japan  \n",
      "1                 140.0                 NaN                 NaN      Turkey  \n",
      "2                   NaN                 NaN                 NaN   Venezuela  \n",
      "3                   NaN                 NaN                 NaN       China  \n",
      "4                   4.0                 NaN                 NaN    Bulgaria  \n",
      "...                 ...                 ...                 ...         ...  \n",
      "1335                NaN                 NaN                 150      Burma   \n",
      "1336                NaN                 NaN                 NaN      Japan   \n",
      "1337                NaN                 NaN                 111      India   \n",
      "1338                NaN                 NaN                 601     Turkey   \n",
      "1339                NaN                 NaN                 NaN  Indonesia   \n",
      "\n",
      "[1340 rows x 12 columns]\n"
     ]
    }
   ],
   "source": [
    "df['Other Source Deaths'] = df['Other Source Deaths'].str.extract('(\\d+),*(\\d*)')\n",
    "df['EM-DAT Total Deaths'] = df['EM-DAT Total Deaths'].str.extract('(\\d*)')\n",
    "df['Magnitude'] = df['Magnitude'].str.extract('(\\d+\\W\\d+)')\n",
    "df['Lat'] = df['Lat'].str.extract('(-?\\d+\\W\\d+)')\n",
    "df['Long'] = df['Long'].str.extract('(-?\\d+\\W\\d+)')\n",
    "df['Depth (km)'] = df['Depth (km)'].str.extract('(\\d+\\W*\\d*)')\n",
    "df['Country'] = df['Present-day country and link to Wikipedia article'].str.extract('(\\w+\\s*\\w*)')\n",
    "df.drop(columns = ['Present-day country and link to Wikipedia article'], inplace = True)\n",
    "print(df)"
   ]
  },
  {
   "cell_type": "code",
   "execution_count": 9,
   "metadata": {},
   "outputs": [],
   "source": [
    "df['EM-DAT Total Deaths'].str.strip()\n",
    "df['Magnitude'] = df['Magnitude'].astype('float64')\n",
    "df['Other Source Deaths'] = df['Other Source Deaths'].astype('float64')\n",
    "df['EM-DAT Total Deaths'] = df['EM-DAT Total Deaths'].astype('float64')\n",
    "df['Lat'] = df['Lat'].astype('float64')\n",
    "df['Long'] = df['Long'].astype('float64')\n",
    "df['Depth (km)'] = df['Depth (km)'].astype('float64')"
   ]
  },
  {
   "cell_type": "code",
   "execution_count": 10,
   "metadata": {},
   "outputs": [],
   "source": [
    "df['Deaths'] = df[['PDE Shaking Deaths','PDE Total Deaths','Utsu Total Deaths','EM-DAT Total Deaths',]].max(axis = 1)"
   ]
  },
  {
   "cell_type": "code",
   "execution_count": 11,
   "metadata": {},
   "outputs": [],
   "source": [
    "df['Origin (UTC)'] = pd.to_datetime(df['Origin (UTC)'])"
   ]
  },
  {
   "cell_type": "code",
   "execution_count": 12,
   "metadata": {},
   "outputs": [],
   "source": [
    "#df.set_index('Origin (UTC)', inplace = True)"
   ]
  },
  {
   "cell_type": "code",
   "execution_count": 13,
   "metadata": {},
   "outputs": [
    {
     "name": "stdout",
     "output_type": "stream",
     "text": [
      "<class 'pandas.core.frame.DataFrame'>\n",
      "RangeIndex: 1340 entries, 0 to 1339\n",
      "Data columns (total 13 columns):\n",
      " #   Column               Non-Null Count  Dtype         \n",
      "---  ------               --------------  -----         \n",
      " 0   Origin (UTC)         1340 non-null   datetime64[ns]\n",
      " 1   Lat                  1322 non-null   float64       \n",
      " 2   Long                 1321 non-null   float64       \n",
      " 3   Depth (km)           1249 non-null   float64       \n",
      " 4   Magnitude            1338 non-null   float64       \n",
      " 5   Secondary Effects    373 non-null    object        \n",
      " 6   PDE Shaking Deaths   738 non-null    float64       \n",
      " 7   PDE Total Deaths     749 non-null    float64       \n",
      " 8   Utsu Total Deaths    1027 non-null   float64       \n",
      " 9   EM-DAT Total Deaths  559 non-null    float64       \n",
      " 10  Other Source Deaths  37 non-null     float64       \n",
      " 11  Country              1340 non-null   object        \n",
      " 12  Deaths               1244 non-null   float64       \n",
      "dtypes: datetime64[ns](1), float64(10), object(2)\n",
      "memory usage: 136.2+ KB\n"
     ]
    }
   ],
   "source": [
    "df.info()\n",
    "#print(df.head(50))"
   ]
  },
  {
   "cell_type": "code",
   "execution_count": 14,
   "metadata": {},
   "outputs": [
    {
     "data": {
      "text/plain": [
       "6.8    76\n",
       "6.9    61\n",
       "6.5    58\n",
       "7.2    57\n",
       "5.6    56\n",
       "       ..\n",
       "2.0     1\n",
       "4.0     1\n",
       "2.6     1\n",
       "8.7     1\n",
       "9.5     1\n",
       "Name: Magnitude, Length: 61, dtype: int64"
      ]
     },
     "execution_count": 14,
     "metadata": {},
     "output_type": "execute_result"
    }
   ],
   "source": [
    "df['Magnitude'].value_counts()"
   ]
  },
  {
   "cell_type": "code",
   "execution_count": 15,
   "metadata": {
    "scrolled": false
   },
   "outputs": [],
   "source": [
    "df.query('Magnitude > 5.0 or (Magnitude < 5.0 and `Secondary Effects` == \"L\" and Deaths > 10)', inplace = True)"
   ]
  },
  {
   "cell_type": "code",
   "execution_count": 16,
   "metadata": {},
   "outputs": [
    {
     "data": {
      "text/html": [
       "<div>\n",
       "<style scoped>\n",
       "    .dataframe tbody tr th:only-of-type {\n",
       "        vertical-align: middle;\n",
       "    }\n",
       "\n",
       "    .dataframe tbody tr th {\n",
       "        vertical-align: top;\n",
       "    }\n",
       "\n",
       "    .dataframe thead th {\n",
       "        text-align: right;\n",
       "    }\n",
       "</style>\n",
       "<table border=\"1\" class=\"dataframe\">\n",
       "  <thead>\n",
       "    <tr style=\"text-align: right;\">\n",
       "      <th></th>\n",
       "      <th>Depth (km)</th>\n",
       "      <th>Deaths</th>\n",
       "      <th>Magnitude</th>\n",
       "    </tr>\n",
       "  </thead>\n",
       "  <tbody>\n",
       "    <tr>\n",
       "      <th>Depth (km)</th>\n",
       "      <td>1.000000</td>\n",
       "      <td>-0.022549</td>\n",
       "      <td>0.144006</td>\n",
       "    </tr>\n",
       "    <tr>\n",
       "      <th>Deaths</th>\n",
       "      <td>-0.022549</td>\n",
       "      <td>1.000000</td>\n",
       "      <td>0.154411</td>\n",
       "    </tr>\n",
       "    <tr>\n",
       "      <th>Magnitude</th>\n",
       "      <td>0.144006</td>\n",
       "      <td>0.154411</td>\n",
       "      <td>1.000000</td>\n",
       "    </tr>\n",
       "  </tbody>\n",
       "</table>\n",
       "</div>"
      ],
      "text/plain": [
       "            Depth (km)    Deaths  Magnitude\n",
       "Depth (km)    1.000000 -0.022549   0.144006\n",
       "Deaths       -0.022549  1.000000   0.154411\n",
       "Magnitude     0.144006  0.154411   1.000000"
      ]
     },
     "execution_count": 16,
     "metadata": {},
     "output_type": "execute_result"
    }
   ],
   "source": [
    "df[['Depth (km)', 'Deaths', 'Magnitude']].corr()"
   ]
  },
  {
   "cell_type": "code",
   "execution_count": 22,
   "metadata": {},
   "outputs": [],
   "source": [
    "df.to_csv(r'..\\Data\\df.csv', index = True)"
   ]
  },
  {
   "cell_type": "code",
   "execution_count": 18,
   "metadata": {},
   "outputs": [],
   "source": [
    "#temp1 = df.resample('Y').count()\n",
    "#print(temp1)"
   ]
  },
  {
   "cell_type": "code",
   "execution_count": 19,
   "metadata": {},
   "outputs": [],
   "source": [
    "#EQ Count vs country\n",
    "#EQ Count vs time\n",
    "\n",
    "#Corr deaths vs country\n",
    "#corr deaths vs time"
   ]
  }
 ],
 "metadata": {
  "kernelspec": {
   "display_name": "Python 3",
   "language": "python",
   "name": "python3"
  },
  "language_info": {
   "codemirror_mode": {
    "name": "ipython",
    "version": 3
   },
   "file_extension": ".py",
   "mimetype": "text/x-python",
   "name": "python",
   "nbconvert_exporter": "python",
   "pygments_lexer": "ipython3",
   "version": "3.8.3"
  }
 },
 "nbformat": 4,
 "nbformat_minor": 4
}
