{
 "cells": [
  {
   "cell_type": "code",
   "execution_count": 1,
   "metadata": {},
   "outputs": [],
   "source": [
    "import pandas as pd\n",
    "import numpy as np\n",
    "import matplotlib.pyplot as plt\n",
    "import seaborn as sns\n",
    "from datetime import date\n",
    "import requests\n",
    "from io import StringIO\n",
    "from bs4 import BeautifulSoup as BS\n",
    "import json"
   ]
  },
  {
   "cell_type": "code",
   "execution_count": 2,
   "metadata": {},
   "outputs": [],
   "source": [
    "url = 'https://earthquake.usgs.gov/fdsnws/event/1/query?format=geojson&starttime=1900-01-01&minlatitude=34.452&maxlatitude=37.44&minlongitude=-91.033&maxlongitude=-79.915&eventtype=earthquake'"
   ]
  },
  {
   "cell_type": "code",
   "execution_count": 3,
   "metadata": {},
   "outputs": [],
   "source": [
    "r = requests.get(url)\n",
    "data = r.json()"
   ]
  },
  {
   "cell_type": "code",
   "execution_count": 4,
   "metadata": {},
   "outputs": [
    {
     "data": {
      "text/plain": [
       "200"
      ]
     },
     "execution_count": 4,
     "metadata": {},
     "output_type": "execute_result"
    }
   ],
   "source": [
    "r.status_code"
   ]
  },
  {
   "cell_type": "code",
   "execution_count": 5,
   "metadata": {},
   "outputs": [],
   "source": [
    "#data.keys()\n",
    "#data['features'][0]"
   ]
  },
  {
   "cell_type": "code",
   "execution_count": 6,
   "metadata": {},
   "outputs": [],
   "source": [
    "#data['features'][0]['properties']"
   ]
  },
  {
   "cell_type": "code",
   "execution_count": 7,
   "metadata": {},
   "outputs": [],
   "source": [
    "contain = []\n",
    "for d in data['features']:\n",
    "    d['properties']['geometry'] = d['geometry']\n",
    "    d['properties']['id'] = d['id']\n",
    "    contain.append(d['properties'])"
   ]
  },
  {
   "cell_type": "code",
   "execution_count": 8,
   "metadata": {},
   "outputs": [],
   "source": [
    "full = pd.DataFrame(contain)"
   ]
  },
  {
   "cell_type": "code",
   "execution_count": 9,
   "metadata": {},
   "outputs": [],
   "source": [
    "full['TN'] = full['place'].str.contains('Tennessee')"
   ]
  },
  {
   "cell_type": "code",
   "execution_count": 10,
   "metadata": {},
   "outputs": [],
   "source": [
    "#temp = temp[temp['TN']==True]\n",
    "TN_eq = full.query('TN == True')"
   ]
  },
  {
   "cell_type": "code",
   "execution_count": 11,
   "metadata": {},
   "outputs": [],
   "source": [
    "#TN_eq.info()"
   ]
  },
  {
   "cell_type": "code",
   "execution_count": 12,
   "metadata": {},
   "outputs": [
    {
     "name": "stderr",
     "output_type": "stream",
     "text": [
      "<ipython-input-12-72c8d77f3930>:1: SettingWithCopyWarning: \n",
      "A value is trying to be set on a copy of a slice from a DataFrame\n",
      "\n",
      "See the caveats in the documentation: https://pandas.pydata.org/pandas-docs/stable/user_guide/indexing.html#returning-a-view-versus-a-copy\n",
      "  TN_eq.query('mag >= 2.5', inplace = True)\n"
     ]
    }
   ],
   "source": [
    "TN_eq.query('mag >= 2.5', inplace = True)"
   ]
  },
  {
   "cell_type": "code",
   "execution_count": 13,
   "metadata": {},
   "outputs": [],
   "source": [
    "#TN_eq.to_csv(r'..\\Data\\TN_eq.csv', index = False)"
   ]
  },
  {
   "cell_type": "code",
   "execution_count": 14,
   "metadata": {},
   "outputs": [],
   "source": [
    "arc = pd.read_csv('../Data/arc.csv')"
   ]
  },
  {
   "cell_type": "code",
   "execution_count": 15,
   "metadata": {},
   "outputs": [],
   "source": [
    "arc['time'] = pd.to_datetime(arc['time'])\n",
    "arc.drop(columns = ['FID','FID_1'], inplace = True)"
   ]
  },
  {
   "cell_type": "code",
   "execution_count": 16,
   "metadata": {
    "scrolled": true
   },
   "outputs": [
    {
     "name": "stdout",
     "output_type": "stream",
     "text": [
      "<class 'pandas.core.frame.DataFrame'>\n",
      "RangeIndex: 301 entries, 0 to 300\n",
      "Data columns (total 23 columns):\n",
      " #   Column      Non-Null Count  Dtype              \n",
      "---  ------      --------------  -----              \n",
      " 0   time        301 non-null    datetime64[ns, UTC]\n",
      " 1   latitude    301 non-null    float64            \n",
      " 2   longitude   301 non-null    float64            \n",
      " 3   depth       301 non-null    float64            \n",
      " 4   mag         301 non-null    float64            \n",
      " 5   magType     301 non-null    object             \n",
      " 6   nst         301 non-null    int64              \n",
      " 7   gap         301 non-null    int64              \n",
      " 8   dmin        301 non-null    float64            \n",
      " 9   rms         301 non-null    float64            \n",
      " 10  net         301 non-null    object             \n",
      " 11  id          301 non-null    object             \n",
      " 12  updated     301 non-null    object             \n",
      " 13  place       301 non-null    object             \n",
      " 14  horizontal  301 non-null    float64            \n",
      " 15  depthError  301 non-null    float64            \n",
      " 16  magError    301 non-null    float64            \n",
      " 17  magNst      301 non-null    int64              \n",
      " 18  locationSo  301 non-null    object             \n",
      " 19  magSource   301 non-null    object             \n",
      " 20  NAME        301 non-null    object             \n",
      " 21  County      301 non-null    object             \n",
      " 22  2019POP     301 non-null    float64            \n",
      "dtypes: datetime64[ns, UTC](1), float64(10), int64(3), object(9)\n",
      "memory usage: 54.2+ KB\n"
     ]
    }
   ],
   "source": [
    "arc.info()"
   ]
  },
  {
   "cell_type": "code",
   "execution_count": 17,
   "metadata": {},
   "outputs": [],
   "source": [
    "arc.set_index('time', inplace = True)"
   ]
  },
  {
   "cell_type": "code",
   "execution_count": 20,
   "metadata": {},
   "outputs": [],
   "source": [
    "arc_agg = arc.mag.resample('10Y').count()\n",
    "arc_agg = pd.DataFrame(arc_agg)\n",
    "\n",
    "arc_agg = arc_agg.reset_index()\n",
    "arc_agg['Year'] = arc_agg['time'].dt.year"
   ]
  },
  {
   "cell_type": "code",
   "execution_count": 21,
   "metadata": {},
   "outputs": [
    {
     "name": "stdout",
     "output_type": "stream",
     "text": [
      "                        time  mag  Year\n",
      "0  1913-12-31 00:00:00+00:00    1  1913\n",
      "1  1923-12-31 00:00:00+00:00    1  1923\n",
      "2  1933-12-31 00:00:00+00:00    1  1933\n",
      "3  1943-12-31 00:00:00+00:00    0  1943\n",
      "4  1953-12-31 00:00:00+00:00    0  1953\n",
      "5  1963-12-31 00:00:00+00:00    4  1963\n",
      "6  1973-12-31 00:00:00+00:00    3  1973\n",
      "7  1983-12-31 00:00:00+00:00   36  1983\n",
      "8  1993-12-31 00:00:00+00:00   37  1993\n",
      "9  2003-12-31 00:00:00+00:00   44  2003\n",
      "10 2013-12-31 00:00:00+00:00   70  2013\n",
      "11 2023-12-31 00:00:00+00:00  104  2023\n"
     ]
    }
   ],
   "source": [
    "print(arc_agg)"
   ]
  },
  {
   "cell_type": "code",
   "execution_count": 24,
   "metadata": {},
   "outputs": [
    {
     "data": {
      "text/plain": [
       "(array([ 0,  1,  2,  3,  4,  5,  6,  7,  8,  9, 10, 11]),\n",
       " <a list of 12 Text major ticklabel objects>)"
      ]
     },
     "execution_count": 24,
     "metadata": {},
     "output_type": "execute_result"
    },
    {
     "data": {
      "image/png": "[encoded data removed]",
      "text/plain": [
       "<Figure size 360x360 with 1 Axes>"
      ]
     },
     "metadata": {},
     "output_type": "display_data"
    }
   ],
   "source": [
    "sns.set_style('whitegrid')\n",
    "\n",
    "g = sns.catplot(x = 'Year', y = 'mag', \n",
    "            data = arc_agg, kind = 'point',\n",
    "               color='g')\n",
    "\n",
    "g.fig.suptitle('Tennessee Earthquakes by 10 Year Intervals', y=1.03)\n",
    "g.set(xlabel = '10 Year Interval End Year')\n",
    "g.set(ylabel = 'Total Earthquakes')\n",
    "\n",
    "plt.ylim(0,150)\n",
    "plt.xticks(rotation = 45)"
   ]
  },
  {
   "cell_type": "code",
   "execution_count": 28,
   "metadata": {},
   "outputs": [],
   "source": [
    "arc = arc.reset_index()\n",
    "arc['Hour'] = arc['time'].dt.hour\n",
    "\n",
    "#Create day and night flags in the original dataframe\n",
    "\n",
    "conditions = [(arc['Hour'] > 8) & (arc['Hour'] < 17), \n",
    "              (arc['Hour'] < 9), \n",
    "              (arc['Hour'] > 16)]\n",
    "values = ['Day', 'Night', 'Night']\n",
    "\n",
    "arc['TOD'] = np.select(conditions, values)"
   ]
  },
  {
   "cell_type": "code",
   "execution_count": 31,
   "metadata": {},
   "outputs": [
    {
     "data": {
      "text/plain": [
       "[Text(0, 0.5, ''),\n",
       " Text(0.5, 0, ''),\n",
       " Text(0.5, 1.0, 'Tennessee Earthquakes by Time of Day')]"
      ]
     },
     "execution_count": 31,
     "metadata": {},
     "output_type": "execute_result"
    },
    {
     "data": {
      "image/png": "[encoded data removed]",
      "text/plain": [
       "<Figure size 432x288 with 1 Axes>"
      ]
     },
     "metadata": {},
     "output_type": "display_data"
    }
   ],
   "source": [
    "sns.set_style('whitegrid')\n",
    "\n",
    "g = sns.countplot(x = 'TOD', \n",
    "            data = arc, order = ['Day', 'Night'])\n",
    "\n",
    "g.set(xlabel = '', ylabel = '', title = 'Tennessee Earthquakes by Time of Day')"
   ]
  },
  {
   "cell_type": "code",
   "execution_count": 32,
   "metadata": {},
   "outputs": [
    {
     "data": {
      "text/plain": [
       "Night    200\n",
       "Day      101\n",
       "Name: TOD, dtype: int64"
      ]
     },
     "execution_count": 32,
     "metadata": {},
     "output_type": "execute_result"
    }
   ],
   "source": [
    "arc['TOD'].value_counts()"
   ]
  },
  {
   "cell_type": "code",
   "execution_count": null,
   "metadata": {},
   "outputs": [],
   "source": []
  },
  {
   "cell_type": "code",
   "execution_count": null,
   "metadata": {},
   "outputs": [],
   "source": []
  },
  {
   "cell_type": "code",
   "execution_count": null,
   "metadata": {},
   "outputs": [],
   "source": []
  },
  {
   "cell_type": "code",
   "execution_count": null,
   "metadata": {},
   "outputs": [],
   "source": []
  }
 ],
 "metadata": {
  "kernelspec": {
   "display_name": "Python 3",
   "language": "python",
   "name": "python3"
  },
  "language_info": {
   "codemirror_mode": {
    "name": "ipython",
    "version": 3
   },
   "file_extension": ".py",
   "mimetype": "text/x-python",
   "name": "python",
   "nbconvert_exporter": "python",
   "pygments_lexer": "ipython3",
   "version": "3.8.3"
  }
 },
 "nbformat": 4,
 "nbformat_minor": 4
}
