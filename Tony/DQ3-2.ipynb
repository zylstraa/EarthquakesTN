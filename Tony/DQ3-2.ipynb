{
 "cells": [
  {
   "cell_type": "code",
   "execution_count": 1,
   "metadata": {},
   "outputs": [],
   "source": [
    "import pandas as pd\n",
    "import numpy as np\n",
    "import matplotlib.pyplot as plt\n",
    "import seaborn as sns\n",
    "from datetime import date"
   ]
  },
  {
   "cell_type": "code",
   "execution_count": 2,
   "metadata": {},
   "outputs": [],
   "source": [
    "dftz = pd.read_csv('..\\Data\\dftz.csv')\n",
    "df = pd.read_csv('..\\Data\\df.csv')\n",
    "#print(dftz)"
   ]
  },
  {
   "cell_type": "code",
   "execution_count": 3,
   "metadata": {},
   "outputs": [],
   "source": [
    "dftz['Index'] = dftz['Index'].astype('int')\n",
    "dftz['Index'] = dftz['Index'].astype('str')\n",
    "df['Index'] = df['Index'].astype('str')\n",
    "df['Origin (UTC)'] = pd.to_datetime(df['Origin (UTC)'], utc = True)"
   ]
  },
  {
   "cell_type": "code",
   "execution_count": 4,
   "metadata": {},
   "outputs": [],
   "source": [
    "dftz = dftz.merge(df, on = 'Index', suffixes = ('', '_DEL'))\n",
    "dftz.drop(columns = ['FID'], inplace = True)\n",
    "dftz.drop(columns = ['Lat'], inplace = True)\n",
    "dftz.drop(columns = ['Long'], inplace = True)"
   ]
  },
  {
   "cell_type": "code",
   "execution_count": 5,
   "metadata": {},
   "outputs": [],
   "source": [
    "#dftz['LocalOffset'] = dftz.apply(lambda x: x['Origin (UTC)'].tz_localize(x['TZID'], nonexistent = 'shift_forward'), axis = 1)\n",
    "dftz['LocalTime'] = dftz.apply(lambda x: x['Origin (UTC)'].tz_convert(x['TZID']), axis = 1) "
   ]
  },
  {
   "cell_type": "code",
   "execution_count": 6,
   "metadata": {},
   "outputs": [],
   "source": [
    "dftz['LocalTime'] = pd.to_datetime(dftz['LocalTime'], utc = True)"
   ]
  },
  {
   "cell_type": "code",
   "execution_count": 7,
   "metadata": {},
   "outputs": [],
   "source": [
    "dftz['LocalTime'] = dftz.apply(lambda x: x['LocalTime'].tz_localize(None), axis = 1) "
   ]
  },
  {
   "cell_type": "code",
   "execution_count": 8,
   "metadata": {},
   "outputs": [],
   "source": [
    "dftz.set_index('LocalTime', inplace = True)"
   ]
  },
  {
   "cell_type": "code",
   "execution_count": 9,
   "metadata": {},
   "outputs": [
    {
     "data": {
      "text/html": [
       "<div>\n",
       "<style scoped>\n",
       "    .dataframe tbody tr th:only-of-type {\n",
       "        vertical-align: middle;\n",
       "    }\n",
       "\n",
       "    .dataframe tbody tr th {\n",
       "        vertical-align: top;\n",
       "    }\n",
       "\n",
       "    .dataframe thead th {\n",
       "        text-align: right;\n",
       "    }\n",
       "</style>\n",
       "<table border=\"1\" class=\"dataframe\">\n",
       "  <thead>\n",
       "    <tr style=\"text-align: right;\">\n",
       "      <th></th>\n",
       "      <th>Index</th>\n",
       "      <th>TZID</th>\n",
       "      <th>Origin (UTC)</th>\n",
       "      <th>Depth (km)</th>\n",
       "      <th>Magnitude</th>\n",
       "      <th>Secondary Effects</th>\n",
       "      <th>PDE Shaking Deaths</th>\n",
       "      <th>PDE Total Deaths</th>\n",
       "      <th>Utsu Total Deaths</th>\n",
       "      <th>EM-DAT Total Deaths</th>\n",
       "      <th>Other Source Deaths</th>\n",
       "      <th>Country</th>\n",
       "      <th>Deaths</th>\n",
       "    </tr>\n",
       "    <tr>\n",
       "      <th>LocalTime</th>\n",
       "      <th></th>\n",
       "      <th></th>\n",
       "      <th></th>\n",
       "      <th></th>\n",
       "      <th></th>\n",
       "      <th></th>\n",
       "      <th></th>\n",
       "      <th></th>\n",
       "      <th></th>\n",
       "      <th></th>\n",
       "      <th></th>\n",
       "      <th></th>\n",
       "      <th></th>\n",
       "    </tr>\n",
       "  </thead>\n",
       "  <tbody>\n",
       "    <tr>\n",
       "      <th>1902-08-22 03:00:00</th>\n",
       "      <td>12</td>\n",
       "      <td>Asia/Kashgar</td>\n",
       "      <td>1902-08-22 03:00:00+00:00</td>\n",
       "      <td>0.0</td>\n",
       "      <td>7.7</td>\n",
       "      <td>NaN</td>\n",
       "      <td>NaN</td>\n",
       "      <td>NaN</td>\n",
       "      <td>5650.0</td>\n",
       "      <td>NaN</td>\n",
       "      <td>NaN</td>\n",
       "      <td>China</td>\n",
       "      <td>5650.0</td>\n",
       "    </tr>\n",
       "    <tr>\n",
       "      <th>1955-04-15 03:40:00</th>\n",
       "      <td>348</td>\n",
       "      <td>Asia/Kashgar</td>\n",
       "      <td>1955-04-15 03:40:00+00:00</td>\n",
       "      <td>35.0</td>\n",
       "      <td>7.1</td>\n",
       "      <td>NaN</td>\n",
       "      <td>NaN</td>\n",
       "      <td>NaN</td>\n",
       "      <td>5.0</td>\n",
       "      <td>NaN</td>\n",
       "      <td>NaN</td>\n",
       "      <td>China</td>\n",
       "      <td>5.0</td>\n",
       "    </tr>\n",
       "    <tr>\n",
       "      <th>1969-02-11 22:08:00</th>\n",
       "      <td>477</td>\n",
       "      <td>Asia/Kashgar</td>\n",
       "      <td>1969-02-11 22:08:00+00:00</td>\n",
       "      <td>13.1</td>\n",
       "      <td>7.1</td>\n",
       "      <td>NaN</td>\n",
       "      <td>NaN</td>\n",
       "      <td>NaN</td>\n",
       "      <td>2.0</td>\n",
       "      <td>NaN</td>\n",
       "      <td>NaN</td>\n",
       "      <td>China</td>\n",
       "      <td>2.0</td>\n",
       "    </tr>\n",
       "    <tr>\n",
       "      <th>1971-07-26 01:48:00</th>\n",
       "      <td>514</td>\n",
       "      <td>Asia/Kashgar</td>\n",
       "      <td>1971-07-26 01:48:00+00:00</td>\n",
       "      <td>41.1</td>\n",
       "      <td>5.8</td>\n",
       "      <td>NaN</td>\n",
       "      <td>NaN</td>\n",
       "      <td>NaN</td>\n",
       "      <td>1.0</td>\n",
       "      <td>NaN</td>\n",
       "      <td>NaN</td>\n",
       "      <td>China</td>\n",
       "      <td>1.0</td>\n",
       "    </tr>\n",
       "    <tr>\n",
       "      <th>1975-01-19 08:02:00</th>\n",
       "      <td>548</td>\n",
       "      <td>Asia/Kashgar</td>\n",
       "      <td>1975-01-19 08:02:00+00:00</td>\n",
       "      <td>5.0</td>\n",
       "      <td>6.8</td>\n",
       "      <td>NaN</td>\n",
       "      <td>47.0</td>\n",
       "      <td>47.0</td>\n",
       "      <td>47.0</td>\n",
       "      <td>47.0</td>\n",
       "      <td>NaN</td>\n",
       "      <td>India</td>\n",
       "      <td>47.0</td>\n",
       "    </tr>\n",
       "    <tr>\n",
       "      <th>...</th>\n",
       "      <td>...</td>\n",
       "      <td>...</td>\n",
       "      <td>...</td>\n",
       "      <td>...</td>\n",
       "      <td>...</td>\n",
       "      <td>...</td>\n",
       "      <td>...</td>\n",
       "      <td>...</td>\n",
       "      <td>...</td>\n",
       "      <td>...</td>\n",
       "      <td>...</td>\n",
       "      <td>...</td>\n",
       "      <td>...</td>\n",
       "    </tr>\n",
       "    <tr>\n",
       "      <th>1994-10-08 21:44:00</th>\n",
       "      <td>977</td>\n",
       "      <td>Asia/Jayapura</td>\n",
       "      <td>1994-10-08 21:44:00+00:00</td>\n",
       "      <td>17.0</td>\n",
       "      <td>6.8</td>\n",
       "      <td>T</td>\n",
       "      <td>1.0</td>\n",
       "      <td>1.0</td>\n",
       "      <td>1.0</td>\n",
       "      <td>1.0</td>\n",
       "      <td>NaN</td>\n",
       "      <td>Indonesia</td>\n",
       "      <td>1.0</td>\n",
       "    </tr>\n",
       "    <tr>\n",
       "      <th>1994-01-21 02:24:00</th>\n",
       "      <td>959</td>\n",
       "      <td>Asia/Jayapura</td>\n",
       "      <td>1994-01-21 02:24:00+00:00</td>\n",
       "      <td>20.0</td>\n",
       "      <td>6.9</td>\n",
       "      <td>NaN</td>\n",
       "      <td>7.0</td>\n",
       "      <td>7.0</td>\n",
       "      <td>7.0</td>\n",
       "      <td>7.0</td>\n",
       "      <td>NaN</td>\n",
       "      <td>Indonesia</td>\n",
       "      <td>7.0</td>\n",
       "    </tr>\n",
       "    <tr>\n",
       "      <th>1994-10-04 13:22:00</th>\n",
       "      <td>976</td>\n",
       "      <td>Asia/Ust-Nera</td>\n",
       "      <td>1994-10-04 13:22:00+00:00</td>\n",
       "      <td>14.0</td>\n",
       "      <td>8.3</td>\n",
       "      <td>T,L</td>\n",
       "      <td>NaN</td>\n",
       "      <td>11.0</td>\n",
       "      <td>11.0</td>\n",
       "      <td>5.0</td>\n",
       "      <td>NaN</td>\n",
       "      <td>Russian Federation</td>\n",
       "      <td>11.0</td>\n",
       "    </tr>\n",
       "    <tr>\n",
       "      <th>1918-09-07 17:15:00</th>\n",
       "      <td>95</td>\n",
       "      <td>Asia/Ust-Nera</td>\n",
       "      <td>1918-09-07 17:15:00+00:00</td>\n",
       "      <td>242.4</td>\n",
       "      <td>7.6</td>\n",
       "      <td>T</td>\n",
       "      <td>NaN</td>\n",
       "      <td>NaN</td>\n",
       "      <td>24.0</td>\n",
       "      <td>NaN</td>\n",
       "      <td>NaN</td>\n",
       "      <td>Russian Federation</td>\n",
       "      <td>24.0</td>\n",
       "    </tr>\n",
       "    <tr>\n",
       "      <th>1982-09-29 05:50:00</th>\n",
       "      <td>701</td>\n",
       "      <td>America/Tegucigalpa</td>\n",
       "      <td>1982-09-29 05:50:00+00:00</td>\n",
       "      <td>13.9</td>\n",
       "      <td>5.6</td>\n",
       "      <td>NaN</td>\n",
       "      <td>3.0</td>\n",
       "      <td>3.0</td>\n",
       "      <td>3.0</td>\n",
       "      <td>NaN</td>\n",
       "      <td>NaN</td>\n",
       "      <td>Honduras</td>\n",
       "      <td>3.0</td>\n",
       "    </tr>\n",
       "  </tbody>\n",
       "</table>\n",
       "<p>1227 rows × 13 columns</p>\n",
       "</div>"
      ],
      "text/plain": [
       "                    Index                 TZID              Origin (UTC)  \\\n",
       "LocalTime                                                                  \n",
       "1902-08-22 03:00:00    12         Asia/Kashgar 1902-08-22 03:00:00+00:00   \n",
       "1955-04-15 03:40:00   348         Asia/Kashgar 1955-04-15 03:40:00+00:00   \n",
       "1969-02-11 22:08:00   477         Asia/Kashgar 1969-02-11 22:08:00+00:00   \n",
       "1971-07-26 01:48:00   514         Asia/Kashgar 1971-07-26 01:48:00+00:00   \n",
       "1975-01-19 08:02:00   548         Asia/Kashgar 1975-01-19 08:02:00+00:00   \n",
       "...                   ...                  ...                       ...   \n",
       "1994-10-08 21:44:00   977        Asia/Jayapura 1994-10-08 21:44:00+00:00   \n",
       "1994-01-21 02:24:00   959        Asia/Jayapura 1994-01-21 02:24:00+00:00   \n",
       "1994-10-04 13:22:00   976        Asia/Ust-Nera 1994-10-04 13:22:00+00:00   \n",
       "1918-09-07 17:15:00    95        Asia/Ust-Nera 1918-09-07 17:15:00+00:00   \n",
       "1982-09-29 05:50:00   701  America/Tegucigalpa 1982-09-29 05:50:00+00:00   \n",
       "\n",
       "                     Depth (km)  Magnitude Secondary Effects  \\\n",
       "LocalTime                                                      \n",
       "1902-08-22 03:00:00         0.0        7.7               NaN   \n",
       "1955-04-15 03:40:00        35.0        7.1               NaN   \n",
       "1969-02-11 22:08:00        13.1        7.1               NaN   \n",
       "1971-07-26 01:48:00        41.1        5.8               NaN   \n",
       "1975-01-19 08:02:00         5.0        6.8               NaN   \n",
       "...                         ...        ...               ...   \n",
       "1994-10-08 21:44:00        17.0        6.8                 T   \n",
       "1994-01-21 02:24:00        20.0        6.9               NaN   \n",
       "1994-10-04 13:22:00        14.0        8.3               T,L   \n",
       "1918-09-07 17:15:00       242.4        7.6                 T   \n",
       "1982-09-29 05:50:00        13.9        5.6               NaN   \n",
       "\n",
       "                     PDE Shaking Deaths  PDE Total Deaths  Utsu Total Deaths  \\\n",
       "LocalTime                                                                      \n",
       "1902-08-22 03:00:00                 NaN               NaN             5650.0   \n",
       "1955-04-15 03:40:00                 NaN               NaN                5.0   \n",
       "1969-02-11 22:08:00                 NaN               NaN                2.0   \n",
       "1971-07-26 01:48:00                 NaN               NaN                1.0   \n",
       "1975-01-19 08:02:00                47.0              47.0               47.0   \n",
       "...                                 ...               ...                ...   \n",
       "1994-10-08 21:44:00                 1.0               1.0                1.0   \n",
       "1994-01-21 02:24:00                 7.0               7.0                7.0   \n",
       "1994-10-04 13:22:00                 NaN              11.0               11.0   \n",
       "1918-09-07 17:15:00                 NaN               NaN               24.0   \n",
       "1982-09-29 05:50:00                 3.0               3.0                3.0   \n",
       "\n",
       "                     EM-DAT Total Deaths  Other Source Deaths  \\\n",
       "LocalTime                                                       \n",
       "1902-08-22 03:00:00                  NaN                  NaN   \n",
       "1955-04-15 03:40:00                  NaN                  NaN   \n",
       "1969-02-11 22:08:00                  NaN                  NaN   \n",
       "1971-07-26 01:48:00                  NaN                  NaN   \n",
       "1975-01-19 08:02:00                 47.0                  NaN   \n",
       "...                                  ...                  ...   \n",
       "1994-10-08 21:44:00                  1.0                  NaN   \n",
       "1994-01-21 02:24:00                  7.0                  NaN   \n",
       "1994-10-04 13:22:00                  5.0                  NaN   \n",
       "1918-09-07 17:15:00                  NaN                  NaN   \n",
       "1982-09-29 05:50:00                  NaN                  NaN   \n",
       "\n",
       "                                Country  Deaths  \n",
       "LocalTime                                        \n",
       "1902-08-22 03:00:00               China  5650.0  \n",
       "1955-04-15 03:40:00               China     5.0  \n",
       "1969-02-11 22:08:00               China     2.0  \n",
       "1971-07-26 01:48:00               China     1.0  \n",
       "1975-01-19 08:02:00              India     47.0  \n",
       "...                                 ...     ...  \n",
       "1994-10-08 21:44:00           Indonesia     1.0  \n",
       "1994-01-21 02:24:00           Indonesia     7.0  \n",
       "1994-10-04 13:22:00  Russian Federation    11.0  \n",
       "1918-09-07 17:15:00  Russian Federation    24.0  \n",
       "1982-09-29 05:50:00            Honduras     3.0  \n",
       "\n",
       "[1227 rows x 13 columns]"
      ]
     },
     "execution_count": 9,
     "metadata": {},
     "output_type": "execute_result"
    }
   ],
   "source": [
    "dftz"
   ]
  },
  {
   "cell_type": "code",
   "execution_count": 10,
   "metadata": {},
   "outputs": [
    {
     "data": {
      "text/html": [
       "<div>\n",
       "<style scoped>\n",
       "    .dataframe tbody tr th:only-of-type {\n",
       "        vertical-align: middle;\n",
       "    }\n",
       "\n",
       "    .dataframe tbody tr th {\n",
       "        vertical-align: top;\n",
       "    }\n",
       "\n",
       "    .dataframe thead th {\n",
       "        text-align: right;\n",
       "    }\n",
       "</style>\n",
       "<table border=\"1\" class=\"dataframe\">\n",
       "  <thead>\n",
       "    <tr style=\"text-align: right;\">\n",
       "      <th></th>\n",
       "      <th>Index</th>\n",
       "      <th>TZID</th>\n",
       "      <th>Origin (UTC)</th>\n",
       "      <th>Depth (km)</th>\n",
       "      <th>Magnitude</th>\n",
       "      <th>Secondary Effects</th>\n",
       "      <th>PDE Shaking Deaths</th>\n",
       "      <th>PDE Total Deaths</th>\n",
       "      <th>Utsu Total Deaths</th>\n",
       "      <th>EM-DAT Total Deaths</th>\n",
       "      <th>Other Source Deaths</th>\n",
       "      <th>Country</th>\n",
       "      <th>Deaths</th>\n",
       "    </tr>\n",
       "    <tr>\n",
       "      <th>LocalTime</th>\n",
       "      <th></th>\n",
       "      <th></th>\n",
       "      <th></th>\n",
       "      <th></th>\n",
       "      <th></th>\n",
       "      <th></th>\n",
       "      <th></th>\n",
       "      <th></th>\n",
       "      <th></th>\n",
       "      <th></th>\n",
       "      <th></th>\n",
       "      <th></th>\n",
       "      <th></th>\n",
       "    </tr>\n",
       "  </thead>\n",
       "  <tbody>\n",
       "    <tr>\n",
       "      <th>1976-07-27 19:42:00</th>\n",
       "      <td>583</td>\n",
       "      <td>Asia/Shanghai</td>\n",
       "      <td>1976-07-27 19:42:00+00:00</td>\n",
       "      <td>16.7</td>\n",
       "      <td>7.6</td>\n",
       "      <td>NaN</td>\n",
       "      <td>655237.0</td>\n",
       "      <td>655237.0</td>\n",
       "      <td>242800.0</td>\n",
       "      <td>242000.0</td>\n",
       "      <td>NaN</td>\n",
       "      <td>China</td>\n",
       "      <td>655237.0</td>\n",
       "    </tr>\n",
       "    <tr>\n",
       "      <th>2004-12-26 00:58:00</th>\n",
       "      <td>1237</td>\n",
       "      <td>Asia/Jakarta</td>\n",
       "      <td>2004-12-26 00:58:00+00:00</td>\n",
       "      <td>30.0</td>\n",
       "      <td>9.1</td>\n",
       "      <td>T,L</td>\n",
       "      <td>NaN</td>\n",
       "      <td>297200.0</td>\n",
       "      <td>NaN</td>\n",
       "      <td>NaN</td>\n",
       "      <td>283000.0</td>\n",
       "      <td>Indonesia</td>\n",
       "      <td>297200.0</td>\n",
       "    </tr>\n",
       "    <tr>\n",
       "      <th>1920-12-16 12:05:00</th>\n",
       "      <td>102</td>\n",
       "      <td>Asia/Chongqing</td>\n",
       "      <td>1920-12-16 12:05:00+00:00</td>\n",
       "      <td>25.0</td>\n",
       "      <td>8.6</td>\n",
       "      <td>NaN</td>\n",
       "      <td>NaN</td>\n",
       "      <td>NaN</td>\n",
       "      <td>235502.0</td>\n",
       "      <td>180000.0</td>\n",
       "      <td>NaN</td>\n",
       "      <td>China</td>\n",
       "      <td>235502.0</td>\n",
       "    </tr>\n",
       "    <tr>\n",
       "      <th>1927-05-22 22:32:00</th>\n",
       "      <td>140</td>\n",
       "      <td>Asia/Chongqing</td>\n",
       "      <td>1927-05-22 22:32:00+00:00</td>\n",
       "      <td>25.0</td>\n",
       "      <td>7.9</td>\n",
       "      <td>NaN</td>\n",
       "      <td>NaN</td>\n",
       "      <td>NaN</td>\n",
       "      <td>80000.0</td>\n",
       "      <td>200000.0</td>\n",
       "      <td>NaN</td>\n",
       "      <td>China</td>\n",
       "      <td>200000.0</td>\n",
       "    </tr>\n",
       "    <tr>\n",
       "      <th>1923-09-01 02:58:00</th>\n",
       "      <td>116</td>\n",
       "      <td>Asia/Tokyo</td>\n",
       "      <td>1923-09-01 02:58:00+00:00</td>\n",
       "      <td>35.0</td>\n",
       "      <td>7.9</td>\n",
       "      <td>T,F</td>\n",
       "      <td>NaN</td>\n",
       "      <td>NaN</td>\n",
       "      <td>142807.0</td>\n",
       "      <td>143000.0</td>\n",
       "      <td>105000.0</td>\n",
       "      <td>Japan</td>\n",
       "      <td>143000.0</td>\n",
       "    </tr>\n",
       "    <tr>\n",
       "      <th>...</th>\n",
       "      <td>...</td>\n",
       "      <td>...</td>\n",
       "      <td>...</td>\n",
       "      <td>...</td>\n",
       "      <td>...</td>\n",
       "      <td>...</td>\n",
       "      <td>...</td>\n",
       "      <td>...</td>\n",
       "      <td>...</td>\n",
       "      <td>...</td>\n",
       "      <td>...</td>\n",
       "      <td>...</td>\n",
       "      <td>...</td>\n",
       "    </tr>\n",
       "    <tr>\n",
       "      <th>2003-10-25 12:47:00</th>\n",
       "      <td>1198</td>\n",
       "      <td>Asia/Chongqing</td>\n",
       "      <td>2003-10-25 12:47:00+00:00</td>\n",
       "      <td>13.5</td>\n",
       "      <td>5.8</td>\n",
       "      <td>NaN</td>\n",
       "      <td>NaN</td>\n",
       "      <td>NaN</td>\n",
       "      <td>NaN</td>\n",
       "      <td>NaN</td>\n",
       "      <td>NaN</td>\n",
       "      <td>China</td>\n",
       "      <td>NaN</td>\n",
       "    </tr>\n",
       "    <tr>\n",
       "      <th>2008-08-21 12:24:00</th>\n",
       "      <td>1315</td>\n",
       "      <td>Asia/Chongqing</td>\n",
       "      <td>2008-08-21 12:24:00+00:00</td>\n",
       "      <td>NaN</td>\n",
       "      <td>5.9</td>\n",
       "      <td>NaN</td>\n",
       "      <td>NaN</td>\n",
       "      <td>NaN</td>\n",
       "      <td>NaN</td>\n",
       "      <td>NaN</td>\n",
       "      <td>NaN</td>\n",
       "      <td>China</td>\n",
       "      <td>NaN</td>\n",
       "    </tr>\n",
       "    <tr>\n",
       "      <th>2008-08-30 08:30:00</th>\n",
       "      <td>1316</td>\n",
       "      <td>Asia/Chongqing</td>\n",
       "      <td>2008-08-30 08:30:00+00:00</td>\n",
       "      <td>10.0</td>\n",
       "      <td>5.7</td>\n",
       "      <td>NaN</td>\n",
       "      <td>NaN</td>\n",
       "      <td>NaN</td>\n",
       "      <td>NaN</td>\n",
       "      <td>NaN</td>\n",
       "      <td>41.0</td>\n",
       "      <td>China</td>\n",
       "      <td>NaN</td>\n",
       "    </tr>\n",
       "    <tr>\n",
       "      <th>1914-08-04 22:41:00</th>\n",
       "      <td>77</td>\n",
       "      <td>Asia/Urumqi</td>\n",
       "      <td>1914-08-04 22:41:00+00:00</td>\n",
       "      <td>0.0</td>\n",
       "      <td>7.2</td>\n",
       "      <td>NaN</td>\n",
       "      <td>NaN</td>\n",
       "      <td>NaN</td>\n",
       "      <td>NaN</td>\n",
       "      <td>NaN</td>\n",
       "      <td>NaN</td>\n",
       "      <td>China</td>\n",
       "      <td>NaN</td>\n",
       "    </tr>\n",
       "    <tr>\n",
       "      <th>1914-05-26 14:22:00</th>\n",
       "      <td>75</td>\n",
       "      <td>Asia/Jayapura</td>\n",
       "      <td>1914-05-26 14:22:00+00:00</td>\n",
       "      <td>0.0</td>\n",
       "      <td>7.9</td>\n",
       "      <td>T</td>\n",
       "      <td>NaN</td>\n",
       "      <td>NaN</td>\n",
       "      <td>NaN</td>\n",
       "      <td>NaN</td>\n",
       "      <td>NaN</td>\n",
       "      <td>Indonesia</td>\n",
       "      <td>NaN</td>\n",
       "    </tr>\n",
       "  </tbody>\n",
       "</table>\n",
       "<p>1227 rows × 13 columns</p>\n",
       "</div>"
      ],
      "text/plain": [
       "                    Index            TZID              Origin (UTC)  \\\n",
       "LocalTime                                                             \n",
       "1976-07-27 19:42:00   583   Asia/Shanghai 1976-07-27 19:42:00+00:00   \n",
       "2004-12-26 00:58:00  1237    Asia/Jakarta 2004-12-26 00:58:00+00:00   \n",
       "1920-12-16 12:05:00   102  Asia/Chongqing 1920-12-16 12:05:00+00:00   \n",
       "1927-05-22 22:32:00   140  Asia/Chongqing 1927-05-22 22:32:00+00:00   \n",
       "1923-09-01 02:58:00   116      Asia/Tokyo 1923-09-01 02:58:00+00:00   \n",
       "...                   ...             ...                       ...   \n",
       "2003-10-25 12:47:00  1198  Asia/Chongqing 2003-10-25 12:47:00+00:00   \n",
       "2008-08-21 12:24:00  1315  Asia/Chongqing 2008-08-21 12:24:00+00:00   \n",
       "2008-08-30 08:30:00  1316  Asia/Chongqing 2008-08-30 08:30:00+00:00   \n",
       "1914-08-04 22:41:00    77     Asia/Urumqi 1914-08-04 22:41:00+00:00   \n",
       "1914-05-26 14:22:00    75   Asia/Jayapura 1914-05-26 14:22:00+00:00   \n",
       "\n",
       "                     Depth (km)  Magnitude Secondary Effects  \\\n",
       "LocalTime                                                      \n",
       "1976-07-27 19:42:00        16.7        7.6               NaN   \n",
       "2004-12-26 00:58:00        30.0        9.1               T,L   \n",
       "1920-12-16 12:05:00        25.0        8.6               NaN   \n",
       "1927-05-22 22:32:00        25.0        7.9               NaN   \n",
       "1923-09-01 02:58:00        35.0        7.9               T,F   \n",
       "...                         ...        ...               ...   \n",
       "2003-10-25 12:47:00        13.5        5.8               NaN   \n",
       "2008-08-21 12:24:00         NaN        5.9               NaN   \n",
       "2008-08-30 08:30:00        10.0        5.7               NaN   \n",
       "1914-08-04 22:41:00         0.0        7.2               NaN   \n",
       "1914-05-26 14:22:00         0.0        7.9                 T   \n",
       "\n",
       "                     PDE Shaking Deaths  PDE Total Deaths  Utsu Total Deaths  \\\n",
       "LocalTime                                                                      \n",
       "1976-07-27 19:42:00            655237.0          655237.0           242800.0   \n",
       "2004-12-26 00:58:00                 NaN          297200.0                NaN   \n",
       "1920-12-16 12:05:00                 NaN               NaN           235502.0   \n",
       "1927-05-22 22:32:00                 NaN               NaN            80000.0   \n",
       "1923-09-01 02:58:00                 NaN               NaN           142807.0   \n",
       "...                                 ...               ...                ...   \n",
       "2003-10-25 12:47:00                 NaN               NaN                NaN   \n",
       "2008-08-21 12:24:00                 NaN               NaN                NaN   \n",
       "2008-08-30 08:30:00                 NaN               NaN                NaN   \n",
       "1914-08-04 22:41:00                 NaN               NaN                NaN   \n",
       "1914-05-26 14:22:00                 NaN               NaN                NaN   \n",
       "\n",
       "                     EM-DAT Total Deaths  Other Source Deaths     Country  \\\n",
       "LocalTime                                                                   \n",
       "1976-07-27 19:42:00             242000.0                  NaN      China    \n",
       "2004-12-26 00:58:00                  NaN             283000.0  Indonesia    \n",
       "1920-12-16 12:05:00             180000.0                  NaN      China    \n",
       "1927-05-22 22:32:00             200000.0                  NaN      China    \n",
       "1923-09-01 02:58:00             143000.0             105000.0      Japan    \n",
       "...                                  ...                  ...         ...   \n",
       "2003-10-25 12:47:00                  NaN                  NaN       China   \n",
       "2008-08-21 12:24:00                  NaN                  NaN      China    \n",
       "2008-08-30 08:30:00                  NaN                 41.0      China    \n",
       "1914-08-04 22:41:00                  NaN                  NaN       China   \n",
       "1914-05-26 14:22:00                  NaN                  NaN   Indonesia   \n",
       "\n",
       "                       Deaths  \n",
       "LocalTime                      \n",
       "1976-07-27 19:42:00  655237.0  \n",
       "2004-12-26 00:58:00  297200.0  \n",
       "1920-12-16 12:05:00  235502.0  \n",
       "1927-05-22 22:32:00  200000.0  \n",
       "1923-09-01 02:58:00  143000.0  \n",
       "...                       ...  \n",
       "2003-10-25 12:47:00       NaN  \n",
       "2008-08-21 12:24:00       NaN  \n",
       "2008-08-30 08:30:00       NaN  \n",
       "1914-08-04 22:41:00       NaN  \n",
       "1914-05-26 14:22:00       NaN  \n",
       "\n",
       "[1227 rows x 13 columns]"
      ]
     },
     "execution_count": 10,
     "metadata": {},
     "output_type": "execute_result"
    }
   ],
   "source": [
    "dftz.sort_values(by = 'Deaths', ascending = False)"
   ]
  },
  {
   "cell_type": "code",
   "execution_count": 11,
   "metadata": {},
   "outputs": [
    {
     "data": {
      "text/plain": [
       "LocalTime\n",
       "1900-12-31    7.7\n",
       "1910-12-31    8.8\n",
       "1920-12-31    8.6\n",
       "1930-12-31    8.7\n",
       "1940-12-31    8.4\n",
       "1950-12-31    8.6\n",
       "1960-12-31    9.5\n",
       "1970-12-31    9.2\n",
       "1980-12-31    8.3\n",
       "1990-12-31    8.0\n",
       "2000-12-31    8.3\n",
       "2010-12-31    9.1\n",
       "2020-12-31    9.0\n",
       "Freq: 10A-DEC, Name: Magnitude, dtype: float64"
      ]
     },
     "execution_count": 11,
     "metadata": {},
     "output_type": "execute_result"
    }
   ],
   "source": [
    "#dftz.between_time('00:00', '12:00')\n",
    "#dftz.query('')\n",
    "\n",
    "dftz.Magnitude.resample('10Y').max()"
   ]
  },
  {
   "cell_type": "code",
   "execution_count": 12,
   "metadata": {},
   "outputs": [],
   "source": [
    "dftz_agg = dftz.Index.resample('10Y').count()\n",
    "dftz_agg = pd.DataFrame(dftz_agg)\n",
    "dftz_agg = dftz_agg.assign(MaxMag=dftz.Magnitude.resample('10Y').max(),\n",
    "                          MeanMag=dftz.Magnitude.resample('10Y').mean(), \n",
    "                          MaxDeaths=dftz.Deaths.resample('10Y').max(),\n",
    "                          MeanDeaths=dftz.Deaths.resample('10Y').mean(), \n",
    "                          SumDeaths=dftz.Deaths.resample('10Y').sum())\n",
    "\n",
    "dftz_agg = dftz_agg.reset_index()\n",
    "dftz_agg['Year'] = dftz_agg['LocalTime'].dt.year\n",
    "dftz_agg.rename(columns = {'LocalTime':'DateRange', 'Index':'Count'}, inplace = True) \n",
    "dftz_agg.drop([12], inplace = True)"
   ]
  },
  {
   "cell_type": "code",
   "execution_count": 13,
   "metadata": {},
   "outputs": [
    {
     "name": "stdout",
     "output_type": "stream",
     "text": [
      "<class 'pandas.core.frame.DataFrame'>\n",
      "Int64Index: 12 entries, 0 to 11\n",
      "Data columns (total 8 columns):\n",
      " #   Column      Non-Null Count  Dtype         \n",
      "---  ------      --------------  -----         \n",
      " 0   DateRange   12 non-null     datetime64[ns]\n",
      " 1   Count       12 non-null     int64         \n",
      " 2   MaxMag      12 non-null     float64       \n",
      " 3   MeanMag     12 non-null     float64       \n",
      " 4   MaxDeaths   12 non-null     float64       \n",
      " 5   MeanDeaths  12 non-null     float64       \n",
      " 6   SumDeaths   12 non-null     float64       \n",
      " 7   Year        12 non-null     int64         \n",
      "dtypes: datetime64[ns](1), float64(5), int64(2)\n",
      "memory usage: 864.0 bytes\n"
     ]
    }
   ],
   "source": [
    "dftz_agg.info()"
   ]
  },
  {
   "cell_type": "code",
   "execution_count": 14,
   "metadata": {},
   "outputs": [
    {
     "name": "stdout",
     "output_type": "stream",
     "text": [
      "    DateRange  Count  MaxMag   MeanMag  MaxDeaths   MeanDeaths  SumDeaths  \\\n",
      "0  1900-12-31      3     7.7  6.866667      140.0   140.000000      140.0   \n",
      "1  1910-12-31     53     8.8  6.892453    82000.0  3493.065217   160681.0   \n",
      "2  1920-12-31     46     8.6  7.095652   235502.0  8791.514286   307703.0   \n",
      "3  1930-12-31     65     8.7  6.870769   200000.0  6639.857143   371832.0   \n",
      "4  1940-12-31     65     8.4  6.953846    60000.0  2744.639344   167423.0   \n",
      "5  1950-12-31     81     8.6  6.995062   110000.0  2334.701299   179772.0   \n",
      "6  1960-12-31     77     9.5  6.946753    13100.0   459.972603    33578.0   \n",
      "7  1970-12-31    103     9.2  6.645631    70000.0  1426.680000   142668.0   \n",
      "8  1980-12-31    156     8.3  6.441667   655237.0  5206.549669   786189.0   \n",
      "9  1990-12-31    189     8.0  6.198413    45000.0   598.684783   110158.0   \n",
      "10 2000-12-31    213     8.3  6.338028    17127.0   307.716981    65236.0   \n",
      "11 2010-12-31    172     9.1  6.263953   297200.0  3484.025806   540024.0   \n",
      "\n",
      "    Year  \n",
      "0   1900  \n",
      "1   1910  \n",
      "2   1920  \n",
      "3   1930  \n",
      "4   1940  \n",
      "5   1950  \n",
      "6   1960  \n",
      "7   1970  \n",
      "8   1980  \n",
      "9   1990  \n",
      "10  2000  \n",
      "11  2010  \n"
     ]
    }
   ],
   "source": [
    "print(dftz_agg)"
   ]
  },
  {
   "cell_type": "code",
   "execution_count": 15,
   "metadata": {},
   "outputs": [
    {
     "data": {
      "text/plain": [
       "1223"
      ]
     },
     "execution_count": 15,
     "metadata": {},
     "output_type": "execute_result"
    }
   ],
   "source": [
    "dftz_agg.Count.sum()"
   ]
  },
  {
   "cell_type": "code",
   "execution_count": 16,
   "metadata": {},
   "outputs": [
    {
     "data": {
      "text/plain": [
       "(array([ 0,  1,  2,  3,  4,  5,  6,  7,  8,  9, 10, 11]),\n",
       " <a list of 12 Text major ticklabel objects>)"
      ]
     },
     "execution_count": 16,
     "metadata": {},
     "output_type": "execute_result"
    },
    {
     "data": {
      "image/png": "[encoded data removed]",
      "text/plain": [
       "<Figure size 360x360 with 1 Axes>"
      ]
     },
     "metadata": {},
     "output_type": "display_data"
    }
   ],
   "source": [
    "sns.set_style('whitegrid')\n",
    "\n",
    "g = sns.catplot(x = 'Year', y = 'Count', \n",
    "            data = dftz_agg, kind = 'point',\n",
    "               color='g')\n",
    "\n",
    "g.fig.suptitle('Total Earthquakes by 10 Year Intervals', y=1.03)\n",
    "g.set(xlabel = '10 Year Interval Start Year')\n",
    "g.set(ylabel = 'Total Earthquakes (By Wikipedia...)')\n",
    "\n",
    "plt.ylim(0,250)\n",
    "plt.xticks(rotation = 45)"
   ]
  },
  {
   "cell_type": "code",
   "execution_count": 17,
   "metadata": {},
   "outputs": [
    {
     "data": {
      "text/plain": [
       "(array([ 0,  1,  2,  3,  4,  5,  6,  7,  8,  9, 10, 11]),\n",
       " <a list of 12 Text major ticklabel objects>)"
      ]
     },
     "execution_count": 17,
     "metadata": {},
     "output_type": "execute_result"
    },
    {
     "data": {
      "image/png": "[encoded data removed]",
      "text/plain": [
       "<Figure size 360x360 with 1 Axes>"
      ]
     },
     "metadata": {},
     "output_type": "display_data"
    }
   ],
   "source": [
    "sns.set_style('whitegrid')\n",
    "\n",
    "g = sns.catplot(x = 'Year', y = 'MaxMag', \n",
    "            data = dftz_agg, kind = 'point',\n",
    "               color='b')\n",
    "\n",
    "g.fig.suptitle('Maximum Earthquake Magnitude by 10 Year Intervals', y=1.03)\n",
    "g.set(xlabel = '10 Year Interval Start Year')\n",
    "g.set(ylabel = 'Magnitude')\n",
    "\n",
    "plt.ylim(0,10.0)\n",
    "plt.xticks(rotation = 45)"
   ]
  },
  {
   "cell_type": "code",
   "execution_count": 18,
   "metadata": {},
   "outputs": [
    {
     "data": {
      "text/plain": [
       "(array([ 0,  1,  2,  3,  4,  5,  6,  7,  8,  9, 10, 11]),\n",
       " <a list of 12 Text major ticklabel objects>)"
      ]
     },
     "execution_count": 18,
     "metadata": {},
     "output_type": "execute_result"
    },
    {
     "data": {
      "image/png": "[encoded data removed]",
      "text/plain": [
       "<Figure size 360x360 with 1 Axes>"
      ]
     },
     "metadata": {},
     "output_type": "display_data"
    }
   ],
   "source": [
    "sns.set_style('whitegrid')\n",
    "\n",
    "g = sns.catplot(x = 'Year', y = 'MeanMag', \n",
    "            data = dftz_agg, kind = 'point',\n",
    "               color='b')\n",
    "\n",
    "g.fig.suptitle('Mean Earthquake Magnitude by 10 Year Intervals', y=1.03)\n",
    "g.set(xlabel = '10 Year Interval Start Year')\n",
    "g.set(ylabel = 'Magnitude')\n",
    "\n",
    "plt.ylim(0,10.0)\n",
    "plt.xticks(rotation = 45)"
   ]
  },
  {
   "cell_type": "code",
   "execution_count": 19,
   "metadata": {},
   "outputs": [
    {
     "data": {
      "text/plain": [
       "(array([ 0,  1,  2,  3,  4,  5,  6,  7,  8,  9, 10, 11]),\n",
       " <a list of 12 Text major ticklabel objects>)"
      ]
     },
     "execution_count": 19,
     "metadata": {},
     "output_type": "execute_result"
    },
    {
     "data": {
      "image/png": "[encoded data removed]",
      "text/plain": [
       "<Figure size 360x360 with 1 Axes>"
      ]
     },
     "metadata": {},
     "output_type": "display_data"
    }
   ],
   "source": [
    "sns.set_style('whitegrid')\n",
    "\n",
    "g = sns.catplot(x = 'Year', y = 'MaxDeaths', \n",
    "            data = dftz_agg, kind = 'point',\n",
    "               color='r')\n",
    "\n",
    "g.fig.suptitle('Highest Death Earthquake by 10 Year Intervals', y=1.03)\n",
    "g.set(xlabel = '10 Year Interval Start Year')\n",
    "g.set(ylabel = 'Deaths')\n",
    "\n",
    "plt.ylim(0,700000)\n",
    "plt.xticks(rotation = 45)"
   ]
  },
  {
   "cell_type": "code",
   "execution_count": 20,
   "metadata": {},
   "outputs": [
    {
     "data": {
      "text/plain": [
       "(array([ 0,  1,  2,  3,  4,  5,  6,  7,  8,  9, 10, 11]),\n",
       " <a list of 12 Text major ticklabel objects>)"
      ]
     },
     "execution_count": 20,
     "metadata": {},
     "output_type": "execute_result"
    },
    {
     "data": {
      "image/png": "[encoded data removed]",
      "text/plain": [
       "<Figure size 360x360 with 1 Axes>"
      ]
     },
     "metadata": {},
     "output_type": "display_data"
    }
   ],
   "source": [
    "sns.set_style('whitegrid')\n",
    "\n",
    "g = sns.catplot(x = 'Year', y = 'MeanDeaths', \n",
    "            data = dftz_agg, kind = 'point',\n",
    "               color='r')\n",
    "\n",
    "g.fig.suptitle('Average Fatalities per Earthquake by 10 Year Intervals', y=1.03)\n",
    "g.set(xlabel = '10 Year Interval Start Year')\n",
    "g.set(ylabel = 'Fatalities')\n",
    "\n",
    "plt.ylim(0,9000)\n",
    "plt.xticks(rotation = 45)"
   ]
  },
  {
   "cell_type": "code",
   "execution_count": 21,
   "metadata": {},
   "outputs": [
    {
     "data": {
      "text/plain": [
       "(array([ 0,  1,  2,  3,  4,  5,  6,  7,  8,  9, 10, 11]),\n",
       " <a list of 12 Text major ticklabel objects>)"
      ]
     },
     "execution_count": 21,
     "metadata": {},
     "output_type": "execute_result"
    },
    {
     "data": {
      "image/png": "[encoded data removed]",
      "text/plain": [
       "<Figure size 360x360 with 1 Axes>"
      ]
     },
     "metadata": {},
     "output_type": "display_data"
    }
   ],
   "source": [
    "sns.set_style('whitegrid')\n",
    "\n",
    "g = sns.catplot(x = 'Year', y = 'SumDeaths', \n",
    "            data = dftz_agg, kind = 'point',\n",
    "               color='r')\n",
    "\n",
    "g.fig.suptitle('Total Fatalities per Earthquake by 10 Year Intervals', y=1.03)\n",
    "g.set(xlabel = '10 Year Interval Start Year')\n",
    "g.set(ylabel = 'Fatalities')\n",
    "\n",
    "plt.ylim(0,800000)\n",
    "plt.xticks(rotation = 45)"
   ]
  },
  {
   "cell_type": "code",
   "execution_count": 22,
   "metadata": {},
   "outputs": [
    {
     "name": "stdout",
     "output_type": "stream",
     "text": [
      "                    Index                 TZID              Origin (UTC)  \\\n",
      "LocalTime                                                                  \n",
      "1902-08-22 03:00:00    12         Asia/Kashgar 1902-08-22 03:00:00+00:00   \n",
      "1955-04-15 03:40:00   348         Asia/Kashgar 1955-04-15 03:40:00+00:00   \n",
      "1969-02-11 22:08:00   477         Asia/Kashgar 1969-02-11 22:08:00+00:00   \n",
      "1971-07-26 01:48:00   514         Asia/Kashgar 1971-07-26 01:48:00+00:00   \n",
      "1975-01-19 08:02:00   548         Asia/Kashgar 1975-01-19 08:02:00+00:00   \n",
      "...                   ...                  ...                       ...   \n",
      "1994-10-08 21:44:00   977        Asia/Jayapura 1994-10-08 21:44:00+00:00   \n",
      "1994-01-21 02:24:00   959        Asia/Jayapura 1994-01-21 02:24:00+00:00   \n",
      "1994-10-04 13:22:00   976        Asia/Ust-Nera 1994-10-04 13:22:00+00:00   \n",
      "1918-09-07 17:15:00    95        Asia/Ust-Nera 1918-09-07 17:15:00+00:00   \n",
      "1982-09-29 05:50:00   701  America/Tegucigalpa 1982-09-29 05:50:00+00:00   \n",
      "\n",
      "                     Depth (km)  Magnitude Secondary Effects  \\\n",
      "LocalTime                                                      \n",
      "1902-08-22 03:00:00         0.0        7.7               NaN   \n",
      "1955-04-15 03:40:00        35.0        7.1               NaN   \n",
      "1969-02-11 22:08:00        13.1        7.1               NaN   \n",
      "1971-07-26 01:48:00        41.1        5.8               NaN   \n",
      "1975-01-19 08:02:00         5.0        6.8               NaN   \n",
      "...                         ...        ...               ...   \n",
      "1994-10-08 21:44:00        17.0        6.8                 T   \n",
      "1994-01-21 02:24:00        20.0        6.9               NaN   \n",
      "1994-10-04 13:22:00        14.0        8.3               T,L   \n",
      "1918-09-07 17:15:00       242.4        7.6                 T   \n",
      "1982-09-29 05:50:00        13.9        5.6               NaN   \n",
      "\n",
      "                     PDE Shaking Deaths  PDE Total Deaths  Utsu Total Deaths  \\\n",
      "LocalTime                                                                      \n",
      "1902-08-22 03:00:00                 NaN               NaN             5650.0   \n",
      "1955-04-15 03:40:00                 NaN               NaN                5.0   \n",
      "1969-02-11 22:08:00                 NaN               NaN                2.0   \n",
      "1971-07-26 01:48:00                 NaN               NaN                1.0   \n",
      "1975-01-19 08:02:00                47.0              47.0               47.0   \n",
      "...                                 ...               ...                ...   \n",
      "1994-10-08 21:44:00                 1.0               1.0                1.0   \n",
      "1994-01-21 02:24:00                 7.0               7.0                7.0   \n",
      "1994-10-04 13:22:00                 NaN              11.0               11.0   \n",
      "1918-09-07 17:15:00                 NaN               NaN               24.0   \n",
      "1982-09-29 05:50:00                 3.0               3.0                3.0   \n",
      "\n",
      "                     EM-DAT Total Deaths  Other Source Deaths  \\\n",
      "LocalTime                                                       \n",
      "1902-08-22 03:00:00                  NaN                  NaN   \n",
      "1955-04-15 03:40:00                  NaN                  NaN   \n",
      "1969-02-11 22:08:00                  NaN                  NaN   \n",
      "1971-07-26 01:48:00                  NaN                  NaN   \n",
      "1975-01-19 08:02:00                 47.0                  NaN   \n",
      "...                                  ...                  ...   \n",
      "1994-10-08 21:44:00                  1.0                  NaN   \n",
      "1994-01-21 02:24:00                  7.0                  NaN   \n",
      "1994-10-04 13:22:00                  5.0                  NaN   \n",
      "1918-09-07 17:15:00                  NaN                  NaN   \n",
      "1982-09-29 05:50:00                  NaN                  NaN   \n",
      "\n",
      "                                Country  Deaths  \n",
      "LocalTime                                        \n",
      "1902-08-22 03:00:00               China  5650.0  \n",
      "1955-04-15 03:40:00               China     5.0  \n",
      "1969-02-11 22:08:00               China     2.0  \n",
      "1971-07-26 01:48:00               China     1.0  \n",
      "1975-01-19 08:02:00              India     47.0  \n",
      "...                                 ...     ...  \n",
      "1994-10-08 21:44:00           Indonesia     1.0  \n",
      "1994-01-21 02:24:00           Indonesia     7.0  \n",
      "1994-10-04 13:22:00  Russian Federation    11.0  \n",
      "1918-09-07 17:15:00  Russian Federation    24.0  \n",
      "1982-09-29 05:50:00            Honduras     3.0  \n",
      "\n",
      "[1227 rows x 13 columns]\n"
     ]
    }
   ],
   "source": [
    "print(dftz)"
   ]
  },
  {
   "cell_type": "code",
   "execution_count": 23,
   "metadata": {},
   "outputs": [],
   "source": [
    "#Create Simplified df for computing of agg stats\n",
    "\n",
    "dftz_TOD = dftz.Deaths.resample('8H').sum()\n",
    "dftz_TOD = pd.DataFrame(dftz_TOD)"
   ]
  },
  {
   "cell_type": "code",
   "execution_count": null,
   "metadata": {},
   "outputs": [],
   "source": []
  },
  {
   "cell_type": "code",
   "execution_count": 24,
   "metadata": {},
   "outputs": [
    {
     "name": "stdout",
     "output_type": "stream",
     "text": [
      "                    Index                 TZID              Origin (UTC)  \\\n",
      "LocalTime                                                                  \n",
      "1902-08-22 03:00:00    12         Asia/Kashgar 1902-08-22 03:00:00+00:00   \n",
      "1955-04-15 03:40:00   348         Asia/Kashgar 1955-04-15 03:40:00+00:00   \n",
      "1969-02-11 22:08:00   477         Asia/Kashgar 1969-02-11 22:08:00+00:00   \n",
      "1971-07-26 01:48:00   514         Asia/Kashgar 1971-07-26 01:48:00+00:00   \n",
      "1975-01-19 08:02:00   548         Asia/Kashgar 1975-01-19 08:02:00+00:00   \n",
      "...                   ...                  ...                       ...   \n",
      "1994-10-08 21:44:00   977        Asia/Jayapura 1994-10-08 21:44:00+00:00   \n",
      "1994-01-21 02:24:00   959        Asia/Jayapura 1994-01-21 02:24:00+00:00   \n",
      "1994-10-04 13:22:00   976        Asia/Ust-Nera 1994-10-04 13:22:00+00:00   \n",
      "1918-09-07 17:15:00    95        Asia/Ust-Nera 1918-09-07 17:15:00+00:00   \n",
      "1982-09-29 05:50:00   701  America/Tegucigalpa 1982-09-29 05:50:00+00:00   \n",
      "\n",
      "                     Depth (km)  Magnitude Secondary Effects  \\\n",
      "LocalTime                                                      \n",
      "1902-08-22 03:00:00         0.0        7.7               NaN   \n",
      "1955-04-15 03:40:00        35.0        7.1               NaN   \n",
      "1969-02-11 22:08:00        13.1        7.1               NaN   \n",
      "1971-07-26 01:48:00        41.1        5.8               NaN   \n",
      "1975-01-19 08:02:00         5.0        6.8               NaN   \n",
      "...                         ...        ...               ...   \n",
      "1994-10-08 21:44:00        17.0        6.8                 T   \n",
      "1994-01-21 02:24:00        20.0        6.9               NaN   \n",
      "1994-10-04 13:22:00        14.0        8.3               T,L   \n",
      "1918-09-07 17:15:00       242.4        7.6                 T   \n",
      "1982-09-29 05:50:00        13.9        5.6               NaN   \n",
      "\n",
      "                     PDE Shaking Deaths  PDE Total Deaths  Utsu Total Deaths  \\\n",
      "LocalTime                                                                      \n",
      "1902-08-22 03:00:00                 NaN               NaN             5650.0   \n",
      "1955-04-15 03:40:00                 NaN               NaN                5.0   \n",
      "1969-02-11 22:08:00                 NaN               NaN                2.0   \n",
      "1971-07-26 01:48:00                 NaN               NaN                1.0   \n",
      "1975-01-19 08:02:00                47.0              47.0               47.0   \n",
      "...                                 ...               ...                ...   \n",
      "1994-10-08 21:44:00                 1.0               1.0                1.0   \n",
      "1994-01-21 02:24:00                 7.0               7.0                7.0   \n",
      "1994-10-04 13:22:00                 NaN              11.0               11.0   \n",
      "1918-09-07 17:15:00                 NaN               NaN               24.0   \n",
      "1982-09-29 05:50:00                 3.0               3.0                3.0   \n",
      "\n",
      "                     EM-DAT Total Deaths  Other Source Deaths  \\\n",
      "LocalTime                                                       \n",
      "1902-08-22 03:00:00                  NaN                  NaN   \n",
      "1955-04-15 03:40:00                  NaN                  NaN   \n",
      "1969-02-11 22:08:00                  NaN                  NaN   \n",
      "1971-07-26 01:48:00                  NaN                  NaN   \n",
      "1975-01-19 08:02:00                 47.0                  NaN   \n",
      "...                                  ...                  ...   \n",
      "1994-10-08 21:44:00                  1.0                  NaN   \n",
      "1994-01-21 02:24:00                  7.0                  NaN   \n",
      "1994-10-04 13:22:00                  5.0                  NaN   \n",
      "1918-09-07 17:15:00                  NaN                  NaN   \n",
      "1982-09-29 05:50:00                  NaN                  NaN   \n",
      "\n",
      "                                Country  Deaths  \n",
      "LocalTime                                        \n",
      "1902-08-22 03:00:00               China  5650.0  \n",
      "1955-04-15 03:40:00               China     5.0  \n",
      "1969-02-11 22:08:00               China     2.0  \n",
      "1971-07-26 01:48:00               China     1.0  \n",
      "1975-01-19 08:02:00              India     47.0  \n",
      "...                                 ...     ...  \n",
      "1994-10-08 21:44:00           Indonesia     1.0  \n",
      "1994-01-21 02:24:00           Indonesia     7.0  \n",
      "1994-10-04 13:22:00  Russian Federation    11.0  \n",
      "1918-09-07 17:15:00  Russian Federation    24.0  \n",
      "1982-09-29 05:50:00            Honduras     3.0  \n",
      "\n",
      "[1227 rows x 13 columns]\n"
     ]
    }
   ],
   "source": [
    "print(dftz)"
   ]
  },
  {
   "cell_type": "code",
   "execution_count": 25,
   "metadata": {},
   "outputs": [],
   "source": [
    "#Create an hour column for counting daytime and nightime\n",
    "\n",
    "dftz_TOD = dftz_TOD.reset_index()\n",
    "dftz_TOD['Hour'] = dftz_TOD['LocalTime'].dt.hour\n",
    "\n",
    "#Reorder the original df for plotting\n",
    "\n",
    "dftz = dftz.reset_index()\n",
    "dftz['Hour'] = dftz['LocalTime'].dt.hour"
   ]
  },
  {
   "cell_type": "code",
   "execution_count": 41,
   "metadata": {},
   "outputs": [
    {
     "data": {
      "text/plain": [
       "845"
      ]
     },
     "execution_count": 41,
     "metadata": {},
     "output_type": "execute_result"
    }
   ],
   "source": [
    "#Total number of earthquakes during the nighttime\n",
    "\n",
    "dftz.query('Hour > 16 or Hour < 9')['Index'].count()"
   ]
  },
  {
   "cell_type": "code",
   "execution_count": 42,
   "metadata": {},
   "outputs": [
    {
     "data": {
      "text/plain": [
       "341"
      ]
     },
     "execution_count": 42,
     "metadata": {},
     "output_type": "execute_result"
    }
   ],
   "source": [
    "#Total number of earthquakes during the daytime\n",
    "\n",
    "dftz.query('Hour > 8 and Hour <16')['Index'].count()"
   ]
  },
  {
   "cell_type": "code",
   "execution_count": 57,
   "metadata": {},
   "outputs": [
    {
     "name": "stdout",
     "output_type": "stream",
     "text": [
      "               LocalTime Index                 TZID              Origin (UTC)  \\\n",
      "0    1902-08-22 03:00:00    12         Asia/Kashgar 1902-08-22 03:00:00+00:00   \n",
      "1    1955-04-15 03:40:00   348         Asia/Kashgar 1955-04-15 03:40:00+00:00   \n",
      "2    1969-02-11 22:08:00   477         Asia/Kashgar 1969-02-11 22:08:00+00:00   \n",
      "3    1971-07-26 01:48:00   514         Asia/Kashgar 1971-07-26 01:48:00+00:00   \n",
      "4    1975-01-19 08:02:00   548         Asia/Kashgar 1975-01-19 08:02:00+00:00   \n",
      "...                  ...   ...                  ...                       ...   \n",
      "1222 1994-10-08 21:44:00   977        Asia/Jayapura 1994-10-08 21:44:00+00:00   \n",
      "1223 1994-01-21 02:24:00   959        Asia/Jayapura 1994-01-21 02:24:00+00:00   \n",
      "1224 1994-10-04 13:22:00   976        Asia/Ust-Nera 1994-10-04 13:22:00+00:00   \n",
      "1225 1918-09-07 17:15:00    95        Asia/Ust-Nera 1918-09-07 17:15:00+00:00   \n",
      "1226 1982-09-29 05:50:00   701  America/Tegucigalpa 1982-09-29 05:50:00+00:00   \n",
      "\n",
      "      Depth (km)  Magnitude Secondary Effects  PDE Shaking Deaths  \\\n",
      "0            0.0        7.7               NaN                 NaN   \n",
      "1           35.0        7.1               NaN                 NaN   \n",
      "2           13.1        7.1               NaN                 NaN   \n",
      "3           41.1        5.8               NaN                 NaN   \n",
      "4            5.0        6.8               NaN                47.0   \n",
      "...          ...        ...               ...                 ...   \n",
      "1222        17.0        6.8                 T                 1.0   \n",
      "1223        20.0        6.9               NaN                 7.0   \n",
      "1224        14.0        8.3               T,L                 NaN   \n",
      "1225       242.4        7.6                 T                 NaN   \n",
      "1226        13.9        5.6               NaN                 3.0   \n",
      "\n",
      "      PDE Total Deaths  Utsu Total Deaths  EM-DAT Total Deaths  \\\n",
      "0                  NaN             5650.0                  NaN   \n",
      "1                  NaN                5.0                  NaN   \n",
      "2                  NaN                2.0                  NaN   \n",
      "3                  NaN                1.0                  NaN   \n",
      "4                 47.0               47.0                 47.0   \n",
      "...                ...                ...                  ...   \n",
      "1222               1.0                1.0                  1.0   \n",
      "1223               7.0                7.0                  7.0   \n",
      "1224              11.0               11.0                  5.0   \n",
      "1225               NaN               24.0                  NaN   \n",
      "1226               3.0                3.0                  NaN   \n",
      "\n",
      "      Other Source Deaths             Country  Deaths  Hour  \n",
      "0                     NaN               China  5650.0     3  \n",
      "1                     NaN               China     5.0     3  \n",
      "2                     NaN               China     2.0    22  \n",
      "3                     NaN               China     1.0     1  \n",
      "4                     NaN              India     47.0     8  \n",
      "...                   ...                 ...     ...   ...  \n",
      "1222                  NaN           Indonesia     1.0    21  \n",
      "1223                  NaN           Indonesia     7.0     2  \n",
      "1224                  NaN  Russian Federation    11.0    13  \n",
      "1225                  NaN  Russian Federation    24.0    17  \n",
      "1226                  NaN            Honduras     3.0     5  \n",
      "\n",
      "[1227 rows x 15 columns]\n"
     ]
    }
   ],
   "source": [
    "print(dftz)"
   ]
  },
  {
   "cell_type": "code",
   "execution_count": 68,
   "metadata": {},
   "outputs": [],
   "source": [
    "#Create day and night flags in the original dataframe\n",
    "\n",
    "conditions = [(dftz['Hour'] > 8) & (dftz['Hour'] < 17), \n",
    "              (dftz['Hour'] < 9), \n",
    "              (dftz['Hour'] > 16)]\n",
    "values = ['Day', 'Night', 'Night']\n",
    "\n",
    "dftz['TOD'] = np.select(conditions, values) "
   ]
  },
  {
   "cell_type": "code",
   "execution_count": 69,
   "metadata": {},
   "outputs": [
    {
     "name": "stdout",
     "output_type": "stream",
     "text": [
      "               LocalTime Index                 TZID              Origin (UTC)  \\\n",
      "0    1902-08-22 03:00:00    12         Asia/Kashgar 1902-08-22 03:00:00+00:00   \n",
      "1    1955-04-15 03:40:00   348         Asia/Kashgar 1955-04-15 03:40:00+00:00   \n",
      "2    1969-02-11 22:08:00   477         Asia/Kashgar 1969-02-11 22:08:00+00:00   \n",
      "3    1971-07-26 01:48:00   514         Asia/Kashgar 1971-07-26 01:48:00+00:00   \n",
      "4    1975-01-19 08:02:00   548         Asia/Kashgar 1975-01-19 08:02:00+00:00   \n",
      "...                  ...   ...                  ...                       ...   \n",
      "1222 1994-10-08 21:44:00   977        Asia/Jayapura 1994-10-08 21:44:00+00:00   \n",
      "1223 1994-01-21 02:24:00   959        Asia/Jayapura 1994-01-21 02:24:00+00:00   \n",
      "1224 1994-10-04 13:22:00   976        Asia/Ust-Nera 1994-10-04 13:22:00+00:00   \n",
      "1225 1918-09-07 17:15:00    95        Asia/Ust-Nera 1918-09-07 17:15:00+00:00   \n",
      "1226 1982-09-29 05:50:00   701  America/Tegucigalpa 1982-09-29 05:50:00+00:00   \n",
      "\n",
      "      Depth (km)  Magnitude Secondary Effects  PDE Shaking Deaths  \\\n",
      "0            0.0        7.7               NaN                 NaN   \n",
      "1           35.0        7.1               NaN                 NaN   \n",
      "2           13.1        7.1               NaN                 NaN   \n",
      "3           41.1        5.8               NaN                 NaN   \n",
      "4            5.0        6.8               NaN                47.0   \n",
      "...          ...        ...               ...                 ...   \n",
      "1222        17.0        6.8                 T                 1.0   \n",
      "1223        20.0        6.9               NaN                 7.0   \n",
      "1224        14.0        8.3               T,L                 NaN   \n",
      "1225       242.4        7.6                 T                 NaN   \n",
      "1226        13.9        5.6               NaN                 3.0   \n",
      "\n",
      "      PDE Total Deaths  Utsu Total Deaths  EM-DAT Total Deaths  \\\n",
      "0                  NaN             5650.0                  NaN   \n",
      "1                  NaN                5.0                  NaN   \n",
      "2                  NaN                2.0                  NaN   \n",
      "3                  NaN                1.0                  NaN   \n",
      "4                 47.0               47.0                 47.0   \n",
      "...                ...                ...                  ...   \n",
      "1222               1.0                1.0                  1.0   \n",
      "1223               7.0                7.0                  7.0   \n",
      "1224              11.0               11.0                  5.0   \n",
      "1225               NaN               24.0                  NaN   \n",
      "1226               3.0                3.0                  NaN   \n",
      "\n",
      "      Other Source Deaths             Country  Deaths  Hour    TOD  \n",
      "0                     NaN               China  5650.0     3  Night  \n",
      "1                     NaN               China     5.0     3  Night  \n",
      "2                     NaN               China     2.0    22  Night  \n",
      "3                     NaN               China     1.0     1  Night  \n",
      "4                     NaN              India     47.0     8  Night  \n",
      "...                   ...                 ...     ...   ...    ...  \n",
      "1222                  NaN           Indonesia     1.0    21  Night  \n",
      "1223                  NaN           Indonesia     7.0     2  Night  \n",
      "1224                  NaN  Russian Federation    11.0    13    Day  \n",
      "1225                  NaN  Russian Federation    24.0    17  Night  \n",
      "1226                  NaN            Honduras     3.0     5  Night  \n",
      "\n",
      "[1227 rows x 16 columns]\n"
     ]
    }
   ],
   "source": [
    "print(dftz)"
   ]
  },
  {
   "cell_type": "code",
   "execution_count": 29,
   "metadata": {},
   "outputs": [
    {
     "data": {
      "text/plain": [
       "1051873.0"
      ]
     },
     "execution_count": 29,
     "metadata": {},
     "output_type": "execute_result"
    }
   ],
   "source": [
    "dftz_TOD.loc[dftz_TOD['Hour'] == 0, 'Deaths'].sum()"
   ]
  },
  {
   "cell_type": "code",
   "execution_count": 30,
   "metadata": {},
   "outputs": [
    {
     "data": {
      "text/plain": [
       "424124.0"
      ]
     },
     "execution_count": 30,
     "metadata": {},
     "output_type": "execute_result"
    }
   ],
   "source": [
    "dftz_TOD.loc[dftz_TOD['Hour'] == 8, 'Deaths'].sum()"
   ]
  },
  {
   "cell_type": "code",
   "execution_count": 31,
   "metadata": {},
   "outputs": [
    {
     "data": {
      "text/plain": [
       "1389407.0"
      ]
     },
     "execution_count": 31,
     "metadata": {},
     "output_type": "execute_result"
    }
   ],
   "source": [
    "dftz_TOD.loc[dftz_TOD['Hour'] == 16, 'Deaths'].sum()"
   ]
  },
  {
   "cell_type": "code",
   "execution_count": 32,
   "metadata": {},
   "outputs": [
    {
     "data": {
      "text/plain": [
       "1475997.0"
      ]
     },
     "execution_count": 32,
     "metadata": {},
     "output_type": "execute_result"
    }
   ],
   "source": [
    "dftz_TOD.query('Hour == 0 or Hour == 8')['Deaths'].sum()"
   ]
  },
  {
   "cell_type": "code",
   "execution_count": 33,
   "metadata": {},
   "outputs": [
    {
     "data": {
      "text/plain": [
       "1965.375499334221"
      ]
     },
     "execution_count": 33,
     "metadata": {},
     "output_type": "execute_result"
    }
   ],
   "source": [
    "#Average nightime deaths per nighttime earthquake\n",
    "\n",
    "dftz_TOD.query('Hour == 0 or Hour == 8')['Deaths'].sum()/dftz_TOD.query('(Hour == 0 or Hour == 8) and (Deaths >= 1)')['Deaths'].count()"
   ]
  },
  {
   "cell_type": "code",
   "execution_count": 34,
   "metadata": {},
   "outputs": [
    {
     "data": {
      "text/plain": [
       "3618.2473958333335"
      ]
     },
     "execution_count": 34,
     "metadata": {},
     "output_type": "execute_result"
    }
   ],
   "source": [
    "#Average daytime deaths per daytime earthquake\n",
    "\n",
    "dftz_TOD.loc[dftz_TOD['Hour'] == 16, 'Deaths'].sum()/dftz_TOD.query('Hour == 16 and Deaths >=1')['Deaths'].count()"
   ]
  },
  {
   "cell_type": "code",
   "execution_count": 49,
   "metadata": {},
   "outputs": [],
   "source": [
    "d1 = {'Time': ['Day', 'Night'], 'Deaths': [1389407, 1475997], 'AverageDeaths': [3618.25,1965.38], 'TotalEQs': [341,845], 'WeightedEQs': [341,422.5], 'PercEQs': [0.2875,0.7125]}\n",
    "dftz_TOD = pd.DataFrame(data=d1)"
   ]
  },
  {
   "cell_type": "code",
   "execution_count": 50,
   "metadata": {},
   "outputs": [
    {
     "name": "stdout",
     "output_type": "stream",
     "text": [
      "    Time   Deaths  AverageDeaths  TotalEQs  WeightedEQs  PercEQs\n",
      "0    Day  1389407        3618.25       341        341.0   0.2875\n",
      "1  Night  1475997        1965.38       845        422.5   0.7125\n"
     ]
    }
   ],
   "source": [
    "print(dftz_TOD)"
   ]
  },
  {
   "cell_type": "code",
   "execution_count": 56,
   "metadata": {},
   "outputs": [
    {
     "data": {
      "text/plain": [
       "(array([0, 1]), <a list of 2 Text major ticklabel objects>)"
      ]
     },
     "execution_count": 56,
     "metadata": {},
     "output_type": "execute_result"
    },
    {
     "data": {
      "image/png": "[encoded data removed]",
      "text/plain": [
       "<Figure size 360x360 with 1 Axes>"
      ]
     },
     "metadata": {},
     "output_type": "display_data"
    }
   ],
   "source": [
    "sns.set_style('whitegrid')\n",
    "\n",
    "g = sns.catplot(x = 'Time', y = 'WeightedEQs', \n",
    "            data = dftz_TOD, kind = 'bar',)\n",
    "\n",
    "g.fig.suptitle('Total Earthquakes (Weighted) by Time of Day', y=1.03)\n",
    "g.set(xlabel = '')\n",
    "g.set(ylabel = '')\n",
    "\n",
    "plt.ylim(0,600)\n",
    "plt.xticks(rotation = 0)"
   ]
  },
  {
   "cell_type": "code",
   "execution_count": 36,
   "metadata": {},
   "outputs": [
    {
     "data": {
      "text/plain": [
       "(array([0, 1]), <a list of 2 Text major ticklabel objects>)"
      ]
     },
     "execution_count": 36,
     "metadata": {},
     "output_type": "execute_result"
    },
    {
     "data": {
      "image/png": "[encoded data removed]",
      "text/plain": [
       "<Figure size 360x360 with 1 Axes>"
      ]
     },
     "metadata": {},
     "output_type": "display_data"
    }
   ],
   "source": [
    "sns.set_style('whitegrid')\n",
    "\n",
    "g = sns.catplot(x = 'Time', y = 'Deaths', \n",
    "            data = dftz_TOD, kind = 'bar',)\n",
    "\n",
    "g.fig.suptitle('Total Fatalities by Time of Day', y=1.03)\n",
    "g.set(xlabel = '')\n",
    "g.set(ylabel = 'Fatalities (Millions)')\n",
    "\n",
    "plt.ylim(0,2000000)\n",
    "plt.xticks(rotation = 0)"
   ]
  },
  {
   "cell_type": "code",
   "execution_count": 37,
   "metadata": {},
   "outputs": [
    {
     "data": {
      "text/plain": [
       "(array([0, 1]), <a list of 2 Text major ticklabel objects>)"
      ]
     },
     "execution_count": 37,
     "metadata": {},
     "output_type": "execute_result"
    },
    {
     "data": {
      "image/png": "[encoded data removed]",
      "text/plain": [
       "<Figure size 360x360 with 1 Axes>"
      ]
     },
     "metadata": {},
     "output_type": "display_data"
    }
   ],
   "source": [
    "sns.set_style('whitegrid')\n",
    "\n",
    "g = sns.catplot(x = 'Time', y = 'AverageDeaths', \n",
    "            data = dftz_TOD, kind = 'bar',)\n",
    "\n",
    "g.fig.suptitle('Average Fatalities by Time of Day', y=1.03)\n",
    "g.set(xlabel = '')\n",
    "g.set(ylabel = 'Fatalities')\n",
    "\n",
    "plt.ylim(0,10000)\n",
    "plt.xticks(rotation = 0)"
   ]
  },
  {
   "cell_type": "code",
   "execution_count": 84,
   "metadata": {},
   "outputs": [
    {
     "data": {
      "text/plain": [
       "[Text(0, 0.5, 'Fatalities'),\n",
       " Text(0.5, 0, ''),\n",
       " Text(0.5, 1.0, 'Fatality Distribution Across Time of Day')]"
      ]
     },
     "execution_count": 84,
     "metadata": {},
     "output_type": "execute_result"
    },
    {
     "data": {
      "image/png": "[encoded data removed]",
      "text/plain": [
       "<Figure size 432x288 with 1 Axes>"
      ]
     },
     "metadata": {},
     "output_type": "display_data"
    }
   ],
   "source": [
    "sns.set_style('whitegrid')\n",
    "\n",
    "g = sns.swarmplot(x = 'TOD', y = 'Deaths', \n",
    "            data = dftz, order = ['Day', 'Night'], )\n",
    "\n",
    "g.set(xlabel = '', ylabel = 'Fatalities', title = 'Fatality Distribution Across Time of Day')\n",
    "#g.set(yscale=\"log\")"
   ]
  },
  {
   "cell_type": "code",
   "execution_count": null,
   "metadata": {},
   "outputs": [],
   "source": []
  },
  {
   "cell_type": "code",
   "execution_count": null,
   "metadata": {},
   "outputs": [],
   "source": []
  },
  {
   "cell_type": "code",
   "execution_count": null,
   "metadata": {},
   "outputs": [],
   "source": []
  }
 ],
 "metadata": {
  "kernelspec": {
   "display_name": "Python 3",
   "language": "python",
   "name": "python3"
  },
  "language_info": {
   "codemirror_mode": {
    "name": "ipython",
    "version": 3
   },
   "file_extension": ".py",
   "mimetype": "text/x-python",
   "name": "python",
   "nbconvert_exporter": "python",
   "pygments_lexer": "ipython3",
   "version": "3.8.3"
  }
 },
 "nbformat": 4,
 "nbformat_minor": 4
}
